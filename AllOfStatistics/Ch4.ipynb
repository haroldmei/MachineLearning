{
 "cells": [
  {
   "cell_type": "markdown",
   "metadata": {},
   "source": [
    "### 4 Inequalities"
   ]
  },
  {
   "cell_type": "markdown",
   "metadata": {},
   "source": [
    "#### 4.1 Markov's inequality.\n",
    "$$\n",
    "\\mathbb{P}(X \\gt t) \\le \\frac{\\mathbb{E}(X)}{t}\n",
    "$$"
   ]
  },
  {
   "cell_type": "markdown",
   "metadata": {},
   "source": [
    "#### 4.2 Chebyshev's inequality.\n",
    "$$\n",
    "\\mathbb{P}(|X-\\mu| \\ge t) \\le \\frac{\\delta^2}{t^2}\n",
    "$$\n",
    "and\n",
    "$$\n",
    "\\mathbb{P}(|Z|\\ge k) \\le \\frac{1}{k^2}\n",
    "$$\n",
    "where $ Z=(X-\\mu)/\\delta $"
   ]
  },
  {
   "cell_type": "markdown",
   "metadata": {},
   "source": [
    "#### 4.3 Example. \n",
    "Let $X_i$=1 if the predictor is wrong and $X_i$=0 if it is right. Then $\\bar X_n$ is the observed error rate, and let $p$ be the true but unknown error rate. How like is $\\bar X_n$ to be not within $\\epsilon$ of $p$?"
   ]
  },
  {
   "cell_type": "markdown",
   "metadata": {},
   "source": [
    "#### 4.4 Hoeffding's inequality (1)\n",
    "Let $Y_i$ be independent observations such that $\\mathbb{E}(Y_i)=0$ and $a_i \\le Y_i \\le b_i$. Let $\\epsilon \\gt 0$, then for any $t \\gt 0$:\n",
    "$$\n",
    "\\mathbb{P}(\\sum_{i=0}^n Y_i \\ge \\epsilon) \\le e^{-t\\epsilon}\\prod_{i=0}^n e^{t^2 (b_i-a_i)^2 / 8}\n",
    "$$\n",
    "\n",
    "Hoeffding's inequality is similar to Markov's inequality, but a sharper one."
   ]
  },
  {
   "cell_type": "markdown",
   "metadata": {},
   "source": [
    "#### 4.5 Hoeffding's inequality (2)\n",
    "Let $X_i \\sim Bernoulli(p) $. Then for any $\\epsilon \\gt 0 $.\n",
    "$$\n",
    "\\mathbb{P}(|\\bar X_n - p| \\gt \\epsilon) \\le 2e^{-2n\\epsilon^2}\n",
    "$$"
   ]
  },
  {
   "cell_type": "code",
   "execution_count": null,
   "metadata": {},
   "outputs": [],
   "source": []
  }
 ],
 "metadata": {
  "kernelspec": {
   "display_name": "Python 3",
   "language": "python",
   "name": "python3"
  },
  "language_info": {
   "codemirror_mode": {
    "name": "ipython",
    "version": 3
   },
   "file_extension": ".py",
   "mimetype": "text/x-python",
   "name": "python",
   "nbconvert_exporter": "python",
   "pygments_lexer": "ipython3",
   "version": "3.6.7"
  }
 },
 "nbformat": 4,
 "nbformat_minor": 2
}
