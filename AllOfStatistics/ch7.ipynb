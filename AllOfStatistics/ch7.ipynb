{
 "cells": [
  {
   "cell_type": "markdown",
   "metadata": {},
   "source": [
    "## 7 Estimating the CDF and Statistical Functionals"
   ]
  },
  {
   "cell_type": "markdown",
   "metadata": {},
   "source": [
    "#### Topic\n",
    "1. Nonparametric estimation of CDF\n",
    "2. Nonparametric estimation of statistical functionals"
   ]
  },
  {
   "cell_type": "markdown",
   "metadata": {},
   "source": [
    "### 7.1 The Empirical Distribution Function"
   ]
  },
  {
   "cell_type": "markdown",
   "metadata": {},
   "source": [
    "#### 7.1 Definition\n",
    "The $\\textbf{empirical distribution function}$ $\\hat{F}_n$ is a CDF defined as\n",
    "$$\n",
    "\\hat{F}_n (x) = \\frac{\\sum_{i=1}^n I(X_i \\le x)}{n}\n",
    "$$"
   ]
  },
  {
   "cell_type": "markdown",
   "metadata": {},
   "source": [
    "#### 7.3 Theorem\n",
    "At any fixed value of x,\n",
    "$$\n",
    "\\begin{eqnarray*}\n",
    "\\mathbb{E}(\\hat{F}_n(x))&=&F(x) \\\\\n",
    "\\mathbb{V}(\\hat{F}_n(x))&=&\\frac{F(x)(1-F(x))}{n} \\\\\n",
    "MSE&=&\\frac{F(x)(1-F(x))}{n}\\longrightarrow 0 \\\\\n",
    "\\hat{F}_n(x) &\\overset{P}{\\longrightarrow}& F(x)\n",
    "\\end{eqnarray*}\n",
    "$$\n",
    "PROOF\n"
   ]
  },
  {
   "cell_type": "markdown",
   "metadata": {},
   "source": [
    "#### 7.4 Theorem (The Glivenko-Cantelli Theorem)\n",
    "Let $X_i \\sim F$, then\n",
    "$$\n",
    "\\sup_x \\left|\\hat{F}_n (x) - F(x) \\right| \\overset{P}{\\longrightarrow} 0\n",
    "$$\n",
    "In other words, converges to true distribution almost surely."
   ]
  },
  {
   "cell_type": "markdown",
   "metadata": {},
   "source": [
    "#### 7.5 Theorem (The Dvoretzky-Kiefer-Wolfowitz (DKW) inequality)\n",
    "$$\n",
    "\\mathbb{P}\\left( \\sup_x \\left|F(x)-\\hat{F}_n(x)\\right| \\gt \\epsilon \\right )\\le 2e^{-2n\\epsilon^2}\n",
    "$$"
   ]
  },
  {
   "cell_type": "markdown",
   "metadata": {},
   "source": [
    "#### A Nonparametric 1-$\\alpha$ Confidence Band for F\n",
    "Let\n",
    "$$\n",
    "L(x)=\\max \\{\\hat{F}_n(x)-\\epsilon_n,0 \\} \\\\\n",
    "U(x)=\\min \\{\\hat{F}_n(x)+\\epsilon_n,1 \\} \\\\\n",
    "\\epsilon_n=\\sqrt{\\frac{1}{2n} \\log(\\frac{2}{\\alpha})}\n",
    "$$\n",
    "It follows from 7.5 that for any F,\n",
    "$$\n",
    "\\mathbb{P} \\left (L(x)\\le F(x) \\le U(x)  \\right ) \\ge 1-\\alpha\n",
    "$$"
   ]
  },
  {
   "cell_type": "markdown",
   "metadata": {},
   "source": [
    "### 7.2 Statistical Functionals"
   ]
  },
  {
   "cell_type": "markdown",
   "metadata": {},
   "source": [
    "A statistical functional $T(F)$ is any function of $F$. Examples are:\n",
    "1. Mean: $\\mu=\\int xf(x)dx$\n",
    "2. Variance: $\\delta^2=\\int(x-\\mu)^2f(x)dx$\n",
    "3. Median: $F^{-1}(\\frac{1}{2})$"
   ]
  },
  {
   "cell_type": "markdown",
   "metadata": {},
   "source": [
    "#### 7.7 Definition\n",
    "The plug-in estimator of $\\theta=T(F)$ is defined by\n",
    "$$\n",
    "\\hat{\\theta}_n=T(\\hat{F}_n)\n",
    "$$\n",
    "In other words, just plug in $\\hat{F}_n$ for the unknown $F$"
   ]
  },
  {
   "cell_type": "markdown",
   "metadata": {},
   "source": [
    "#### 7.8 Definition\n",
    "If $T(F)=\\int r(x)f(x)dx$ for some function $r(x)$ then $T$ is called a $\\textbf{linear functional}$.  \n",
    "The reason it is called linear functional is because:\n",
    "$$\n",
    "T(aF+bG)=aT(F)+bT(G)\n",
    "$$\n",
    "\n",
    "What if $r(x)$ is dependent on $F(x)$?"
   ]
  },
  {
   "cell_type": "markdown",
   "metadata": {},
   "source": [
    "#### 7.9 Theorem\n",
    "Ther plug-in estimator for linear functional $T(F)=\\int r(x)dF(x)$ is:\n",
    "$$\n",
    "T(\\hat{F}_n)=\\int r(x)d{\\hat{F}_n(x)} = \\frac{1}{n}\\sum_{i=1}^n r(X_i)\n",
    "$$"
   ]
  },
  {
   "cell_type": "markdown",
   "metadata": {},
   "source": [
    "About how to find out the standard error $\\hat{se}$. \n",
    "In many cases, it turns out that\n",
    "$$\n",
    "T(\\hat{F}_n)\\approx N(T(F), \\hat{se}^2)\n",
    "$$\n",
    "An approximate $1-\\alpha$ confidence interval for $T(F)$ is then:\n",
    "$$\n",
    "T(\\hat{F}_n)\\pm z_{\\alpha/2} \\hat{se}\n",
    "$$"
   ]
  },
  {
   "cell_type": "markdown",
   "metadata": {},
   "source": [
    "#### 7.10 Example (The mean)\n",
    "Let $\\mu=T(F)=\\int xdF(x)$, the plug-in estimator is $\\hat{\\mu}=\\int x d{\\hat{F}_n(x)}=\\frac{1}{n}\\sum_{i=1}^nX_i = \\overline{X}_n$.  \n",
    "\n",
    "The standard error is $se=\\sqrt{\\mathbb{V}(\\overline{X}_n)}=\\frac{\\delta}{\\sqrt{n}}$. If $\\hat{delta}$ denotes an estimate of $\\delta$, then the estimated standard error is $\\frac{\\hat{\\delta}}{\\sqrt{n}}$.  \n",
    "\n",
    "A Normal-based confidence interval for $\\mu$ is\n",
    "$$\n",
    "\\overline{X}_n \\pm z_{\\alpha/2} \\hat{se}\n",
    "$$"
   ]
  },
  {
   "cell_type": "markdown",
   "metadata": {},
   "source": [
    "#### 7.11 Example (The Variance)\n"
   ]
  },
  {
   "cell_type": "markdown",
   "metadata": {},
   "source": [
    "#### 7.12 Example (The Skewness)"
   ]
  },
  {
   "cell_type": "markdown",
   "metadata": {},
   "source": [
    "#### 7.13 Example (Correlation)"
   ]
  },
  {
   "cell_type": "markdown",
   "metadata": {},
   "source": [
    "#### 7.14 Example (Quantiles)"
   ]
  },
  {
   "cell_type": "markdown",
   "metadata": {},
   "source": [
    "#### Example (Plasma Cholesterol)"
   ]
  },
  {
   "cell_type": "code",
   "execution_count": null,
   "metadata": {},
   "outputs": [],
   "source": []
  }
 ],
 "metadata": {
  "kernelspec": {
   "display_name": "Python 3",
   "language": "python",
   "name": "python3"
  },
  "language_info": {
   "codemirror_mode": {
    "name": "ipython",
    "version": 3
   },
   "file_extension": ".py",
   "mimetype": "text/x-python",
   "name": "python",
   "nbconvert_exporter": "python",
   "pygments_lexer": "ipython3",
   "version": "3.6.7"
  }
 },
 "nbformat": 4,
 "nbformat_minor": 2
}
