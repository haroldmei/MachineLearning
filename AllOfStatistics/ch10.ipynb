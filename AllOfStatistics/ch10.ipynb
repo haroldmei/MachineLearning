{
 "cells": [
  {
   "cell_type": "markdown",
   "metadata": {},
   "source": [
    "Two groups of rats, one is exposed to asbestos and one is not. We want to know if exposing to asbestos is associated with lung disease.  \n",
    "\n",
    "The Null Hypothesis: The disease rate is the same in two groups.  \n",
    "The Alternative Hypothesis: The disease rate is not the same in the two groups.  \n",
    "\n",
    "Can we make conclusions in the following cases?  \n",
    "Reject Null Hypothesis. If the disease rate in one group is much higher than the other.  \n",
    "Failed to reject Null Hypothesis. If the disease rate in one group is not much higher than the other.  \n",
    "\n",
    "Suppose the parameter space $\\Theta$ is partitioned into two disjoint sets $\\Theta_0$ and $\\theta_1$, and we wish to test\n",
    "$$\n",
    "H_0: \\theta \\in \\Theta_0 \\text{versus} H_1: \\theta \\in \\Theta_1\n",
    "$$\n",
    "We call the above null/alternative hypothesis.  \n",
    "\n",
    "Rejection region: \n",
    "$$\n",
    "X \\in R \\Rightarrow \\text{reject} H_0 \\\\\n",
    "X \\notin R \\Rightarrow \\text{retain(do not reject)} H_0\n",
    "$$\n",
    "\n",
    "Usually the rejection region R is of the form\n",
    "$$\n",
    "R = \\left\\{ x: T(x) \\gt c \\right\\}\n",
    "$$\n",
    "where T is a test statistic and c is a critical value.  \n",
    "\n",
    "Often, $\\textbf{estimation}$ and $\\textbf{confidence intervals}$ are better tools. Only use $\\textbf{hypothesis testing}$ when you have a well defined hypothesis.\n",
    "\n",
    "We retain $H_0$ unless there is $\\textbf{strong evidence}$ to reject it. In this context the evidence is formally described as $\\textbf{H_1 is true}$.  \n",
    "1. Type I error. Rejecting $H_0$ when $H_0$ is true; \n",
    "2. Type II error. Retaining $H_0$ when $H_1$ is true;\n",
    "The possible outcomes for hypothesis testing\n",
    "  \n",
    "|    Result  |  Retain Null  |  Reject Null |\n",
    "|------------|---------------|--------------|\n",
    "| $H_0$ true |      Y        | Type I error |\n",
    "| $H_1$ true | Type II error |       Y      |\n"
   ]
  },
  {
   "cell_type": "markdown",
   "metadata": {},
   "source": [
    "10.1 Definition\n",
    "The power function of a test with rejection region R is defined by \n",
    "$$\n",
    "\\beta(\\theta)=\\mathbb{P}(X \\in R)\n",
    "$$\n",
    "The size of a test is defined to be\n",
    "$$\n",
    "\\alpha=\\sup_{\\theta \\in \\Theta_0} \\beta(\\theta)\n",
    "$$\n",
    "\n",
    "simple hypothesis:   \n",
    "$\\theta = \\theta_0$\n",
    "\n",
    "composite hypothesis:  \n",
    "$\\theta \\gt \\theta_0$ or $\\theta \\lt theta_0$\n",
    "\n",
    "two-sided hypothesis:  \n",
    "$H_0: \\theta=\\theta_0 \\text{versus} H_1:\\theta \\ne \\theta_0$\n",
    "\n",
    "one-sided hypothesis:   \n",
    "$H_0: \\theta \\le \\theta_0 \\text{versus} H_1:\\theta \\gt \\theta_0$  \n",
    "or  \n",
    "$H_0: \\theta \\ge \\theta_0 \\text{versus} H_1:\\theta \\lt \\theta_0$\n",
    "\n"
   ]
  },
  {
   "cell_type": "markdown",
   "metadata": {},
   "source": [
    "10.2 Example\n",
    "Let $X \\sim N(\\mu,\\delta)$ where $\\delta$ is known. We want to test $H_0:\\mu \\le 0$ versus $H_1: \\mu \\gt 0$.  \n",
    "Hence we have: $\\Theta_0=(-\\infty, 0], \\Theta_1=(0,\\infty) $  \n",
    "Consider the test: reject $H_0$ if $T>c$\n",
    "where $T=\\overline{X}$. The rejection region is:\n",
    "$$\n",
    "R=\\left\\{ x: T(x) > c \\right \\}\n",
    "$$\n",
    "The power function is:\n",
    "$$\n",
    "\\begin{eqnarray*}\n",
    "\\beta(\\mu) &=& \\mathbb{P}(\\overline{X}>c) \\\\\n",
    "&=& \\mathbb{P}(Z>\\sqrt{n}(c-\\mu)/\\delta) \\\\\n",
    "&=& 1 - \\Phi(\\sqrt{n}(c-\\mu)/\\delta)\n",
    "\\end{eqnarray*}\n",
    "$$\n",
    "\n",
    "The test size is hence (increasing $\\beta$):\n",
    "$$\n",
    "\\text{size}=\\sup_{\\mu\\le 0} \\beta(\\mu)=\\beta(0)=1-\\Phi(\\sqrt{n}c/\\delta).\n",
    "$$\n",
    "For a size $\\alpha $ test, set the above equal to $\\alpha$ and solve for c:\n",
    "$$\n",
    "c=\\frac{\\delta \\Phi^{-1}(1-\\alpha)}{\\sqrt{n}}\n",
    "$$\n",
    "We reject $H_0$ when $\\overline{X}\\gt \\delta \\Phi^{-1}(1-\\alpha)/\\sqrt{n}$."
   ]
  },
  {
   "cell_type": "markdown",
   "metadata": {},
   "source": []
  },
  {
   "cell_type": "markdown",
   "metadata": {},
   "source": []
  },
  {
   "cell_type": "markdown",
   "metadata": {},
   "source": []
  },
  {
   "cell_type": "markdown",
   "metadata": {},
   "source": []
  },
  {
   "cell_type": "markdown",
   "metadata": {},
   "source": []
  },
  {
   "cell_type": "markdown",
   "metadata": {},
   "source": []
  },
  {
   "cell_type": "markdown",
   "metadata": {},
   "source": []
  },
  {
   "cell_type": "markdown",
   "metadata": {},
   "source": []
  },
  {
   "cell_type": "markdown",
   "metadata": {},
   "source": []
  },
  {
   "cell_type": "markdown",
   "metadata": {},
   "source": []
  },
  {
   "cell_type": "markdown",
   "metadata": {},
   "source": []
  },
  {
   "cell_type": "markdown",
   "metadata": {},
   "source": []
  },
  {
   "cell_type": "markdown",
   "metadata": {},
   "source": []
  },
  {
   "cell_type": "markdown",
   "metadata": {},
   "source": []
  },
  {
   "cell_type": "markdown",
   "metadata": {},
   "source": []
  },
  {
   "cell_type": "markdown",
   "metadata": {},
   "source": []
  },
  {
   "cell_type": "markdown",
   "metadata": {},
   "source": []
  }
 ],
 "metadata": {
  "kernelspec": {
   "display_name": "Python 3",
   "language": "python",
   "name": "python3"
  },
  "language_info": {
   "codemirror_mode": {
    "name": "ipython",
    "version": 3
   },
   "file_extension": ".py",
   "mimetype": "text/x-python",
   "name": "python",
   "nbconvert_exporter": "python",
   "pygments_lexer": "ipython3",
   "version": "3.6.7"
  }
 },
 "nbformat": 4,
 "nbformat_minor": 2
}
