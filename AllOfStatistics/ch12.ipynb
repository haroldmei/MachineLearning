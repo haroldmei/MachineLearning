{
 "cells": [
  {
   "cell_type": "markdown",
   "metadata": {},
   "source": [
    "## Statistical Decision Theory\n",
    "\n",
    "There are many point estimators, such as\n",
    "1. MLE\n",
    "2. MM\n",
    "3. Posterior Mean\n",
    "\n",
    "And there are more. The question here is, which one should we choose and why? Decision theory can answer this question.  \n",
    "\n",
    "Consider the true unknown parameter $\\theta$ and its parameter space $\\Theta$; it's estimator is $\\hat{\\theta}$. An estimator is called a $\\textbf{decision rule}$, and fitted values of a decision rule are called $\\textbf{actions}.\n",
    "\n",
    "Loss function is the measurement of descrepency between $\\theta$ and $\\hat{\\theta}$, denoted as $L(\\theta,\\hat{\\theta})$. Examples of loss functions are:\n",
    "1. squared error loss: $L(\\theta, \\hat{\\theta})=(\\theta-\\hat{\\theta})^2$\n",
    "2. absolute error loss: $L(\\theta, \\hat{\\theta})=|\\theta-\\hat{\\theta}|$\n",
    "3. $L_p$ loss\n",
    "4. zero-one loss: $1{\\theta=\\hat{\\theta}}$\n",
    "5. KL loss: $L(\\theta, \\hat{\\theta})=KL(\\theta, \\hat{\\theta})$"
   ]
  },
  {
   "cell_type": "markdown",
   "metadata": {},
   "source": [
    "#### 12.1 Definition: Risk\n",
    "The risk is the expected loss over data\n",
    "$$\n",
    "R(\\theta, \\hat{\\theta})=\\mathbb{E}_{\\theta}(L(\\theta, \\hat{\\theta}))=\\int L(\\theta, \\hat{\\theta}) f(x|\\theta)dx\n",
    "$$\n",
    "The estimator $\\hat{\\theta}$ is a statistic, also a function of the data.\n",
    "\n",
    "The risk of a squared error loss is called Mean Squred Error, AKA MSE.\n",
    "$$\n",
    "\\begin{eqnarray*}\n",
    "R(\\theta, \\hat{\\theta})&=&\\mathbb{E}_{\\theta}(\\theta-\\hat{\\theta})^2 \\\\\n",
    "&=& MSE \\\\\n",
    "&=& \\mathbb{V}_{\\hat{\\theta}}(\\theta)+bias_{\\theta}^2(\\hat{\\theta})\n",
    "\\end{eqnarray*}\n",
    "$$"
   ]
  },
  {
   "cell_type": "markdown",
   "metadata": {},
   "source": []
  },
  {
   "cell_type": "markdown",
   "metadata": {},
   "source": []
  },
  {
   "cell_type": "markdown",
   "metadata": {},
   "source": []
  }
 ],
 "metadata": {
  "kernelspec": {
   "display_name": "Python 2",
   "language": "python",
   "name": "python2"
  },
  "language_info": {
   "codemirror_mode": {
    "name": "ipython",
    "version": 2
   },
   "file_extension": ".py",
   "mimetype": "text/x-python",
   "name": "python",
   "nbconvert_exporter": "python",
   "pygments_lexer": "ipython2",
   "version": "2.7.15rc1"
  }
 },
 "nbformat": 4,
 "nbformat_minor": 2
}
