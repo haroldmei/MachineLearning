{
 "cells": [
  {
   "cell_type": "code",
   "execution_count": 60,
   "metadata": {},
   "outputs": [],
   "source": [
    "from sklearn.metrics import f1_score\n",
    "\n",
    "import numpy as np\n",
    "import datetime"
   ]
  },
  {
   "cell_type": "code",
   "execution_count": 61,
   "metadata": {},
   "outputs": [],
   "source": [
    "#split line by '|', split date by '-' and convert to int, add a weekday column\n",
    "def read_data(file):\n",
    "    lines = None\n",
    "    with open(file) as f:\n",
    "        lines = f.read().split('\\n')[2:] \n",
    "        lines = map(lambda it: it.split('|'), lines) \n",
    "        lines = map(lambda it: list(map(lambda i: int(i), it[0].split('-'))) + [int(it[1]), int(it[2])], lines)\n",
    "        lines = map(lambda it: it[:3] + [datetime.datetime(it[0], it[1], it[2]).weekday()] + it[3:], lines)\n",
    "    return np.array(list(lines))"
   ]
  },
  {
   "cell_type": "code",
   "execution_count": 58,
   "metadata": {},
   "outputs": [],
   "source": [
    "# read into a matrix and filter by weekday number 2 (Tuesday)\n",
    "df = read_data('test_v2.psv')\n",
    "df_tuesday = df[df[:, 3] == 2]"
   ]
  },
  {
   "cell_type": "code",
   "execution_count": 79,
   "metadata": {},
   "outputs": [
    {
     "name": "stdout",
     "output_type": "stream",
     "text": [
      "f1 score for each category:  [0.55172414 0.55172414]\n"
     ]
    }
   ],
   "source": [
    "y_true = df_tuesday[:, 4]\n",
    "y_pred = df_tuesday[:, 5]\n",
    "\n",
    "f1 = f1_score(y_true, y_pred, average=None)\n",
    "print('f1 score for each category: ', f1)"
   ]
  }
 ],
 "metadata": {
  "kernelspec": {
   "display_name": "Python 3 (ipykernel)",
   "language": "python",
   "name": "python3"
  },
  "language_info": {
   "codemirror_mode": {
    "name": "ipython",
    "version": 3
   },
   "file_extension": ".py",
   "mimetype": "text/x-python",
   "name": "python",
   "nbconvert_exporter": "python",
   "pygments_lexer": "ipython3",
   "version": "3.9.5"
  }
 },
 "nbformat": 4,
 "nbformat_minor": 2
}
