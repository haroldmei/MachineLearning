{
 "nbformat": 4,
 "nbformat_minor": 2,
 "metadata": {
  "language_info": {
   "name": "python",
   "codemirror_mode": {
    "name": "ipython",
    "version": 3
   },
   "version": "3.7.4-final"
  },
  "orig_nbformat": 2,
  "file_extension": ".py",
  "mimetype": "text/x-python",
  "name": "python",
  "npconvert_exporter": "python",
  "pygments_lexer": "ipython3",
  "version": 3,
  "kernelspec": {
   "name": "python37464bitbaseconda382c5024d29d46df9a03833e86043d73",
   "display_name": "Python 3.7.4 64-bit ('base': conda)"
  }
 },
 "cells": [
  {
   "cell_type": "code",
   "execution_count": 1,
   "metadata": {},
   "outputs": [
    {
     "output_type": "stream",
     "name": "stdout",
     "text": "Collecting rank_bm25\n  Downloading https://files.pythonhosted.org/packages/d2/e4/38d03d6d5e2deae8d2838b81d6ba2742475ced42045f5c46aeb00c5fb79c/rank_bm25-0.2.tar.gz\nCollecting nltk\n  Downloading https://files.pythonhosted.org/packages/f6/1d/d925cfb4f324ede997f6d47bea4d9babba51b49e87a767c170b77005889d/nltk-3.4.5.zip (1.5MB)\nRequirement already satisfied: numpy in c:\\users\\tiger\\miniconda3\\lib\\site-packages (from rank_bm25) (1.18.2)\nRequirement already satisfied: six in c:\\users\\tiger\\miniconda3\\lib\\site-packages (from nltk) (1.12.0)\nBuilding wheels for collected packages: rank-bm25, nltk\n  Building wheel for rank-bm25 (setup.py): started\n  Building wheel for rank-bm25 (setup.py): finished with status 'done'\n  Created wheel for rank-bm25: filename=rank_bm25-0.2-cp37-none-any.whl size=4169 sha256=b745c59970644c9c064b22ae4af4c3afedc073f4cfcd47d84361e55fc10a2c06\n  Stored in directory: C:\\Users\\Tiger\\AppData\\Local\\pip\\Cache\\wheels\\6f\\0c\\1f\\78945dd6a5478bbcdb50d73ac96ae5af2ffcdfcd374fd9b1bf\n  Building wheel for nltk (setup.py): started\n  Building wheel for nltk (setup.py): finished with status 'done'\n  Created wheel for nltk: filename=nltk-3.4.5-cp37-none-any.whl size=1449913 sha256=5fe698a0155b498aff1ef1c6e24a75d809582701ac27c047c4cae84417ecbd6c\n  Stored in directory: C:\\Users\\Tiger\\AppData\\Local\\pip\\Cache\\wheels\\96\\86\\f6\\68ab24c23f207c0077381a5e3904b2815136b879538a24b483\nSuccessfully built rank-bm25 nltk\nInstalling collected packages: rank-bm25, nltk\nSuccessfully installed nltk-3.4.5 rank-bm25-0.2\n"
    }
   ],
   "source": [
    "!pip install rank_bm25 nltk"
   ]
  },
  {
   "cell_type": "code",
   "execution_count": 3,
   "metadata": {},
   "outputs": [
    {
     "output_type": "stream",
     "name": "stdout",
     "text": "Collecting ipywidgets\n  Downloading https://files.pythonhosted.org/packages/56/a0/dbcf5881bb2f51e8db678211907f16ea0a182b232c591a6d6f276985ca95/ipywidgets-7.5.1-py2.py3-none-any.whl (121kB)\nRequirement already satisfied: ipython>=4.0.0; python_version >= \"3.3\" in c:\\users\\tiger\\miniconda3\\lib\\site-packages (from ipywidgets) (7.13.0)\nRequirement already satisfied: traitlets>=4.3.1 in c:\\users\\tiger\\miniconda3\\lib\\site-packages (from ipywidgets) (4.3.3)\nRequirement already satisfied: nbformat>=4.2.0 in c:\\users\\tiger\\miniconda3\\lib\\site-packages (from ipywidgets) (5.0.4)\nRequirement already satisfied: ipykernel>=4.5.1 in c:\\users\\tiger\\miniconda3\\lib\\site-packages (from ipywidgets) (5.2.0)\nCollecting widgetsnbextension~=3.5.0\n  Downloading https://files.pythonhosted.org/packages/6c/7b/7ac231c20d2d33c445eaacf8a433f4e22c60677eb9776c7c5262d7ddee2d/widgetsnbextension-3.5.1-py2.py3-none-any.whl (2.2MB)\nRequirement already satisfied: backcall in c:\\users\\tiger\\miniconda3\\lib\\site-packages (from ipython>=4.0.0; python_version >= \"3.3\"->ipywidgets) (0.1.0)\nRequirement already satisfied: decorator in c:\\users\\tiger\\miniconda3\\lib\\site-packages (from ipython>=4.0.0; python_version >= \"3.3\"->ipywidgets) (4.4.2)\nRequirement already satisfied: jedi>=0.10 in c:\\users\\tiger\\miniconda3\\lib\\site-packages (from ipython>=4.0.0; python_version >= \"3.3\"->ipywidgets) (0.16.0)\nRequirement already satisfied: pygments in c:\\users\\tiger\\miniconda3\\lib\\site-packages (from ipython>=4.0.0; python_version >= \"3.3\"->ipywidgets) (2.6.1)\nRequirement already satisfied: colorama; sys_platform == \"win32\" in c:\\users\\tiger\\miniconda3\\lib\\site-packages (from ipython>=4.0.0; python_version >= \"3.3\"->ipywidgets) (0.4.3)\nRequirement already satisfied: prompt-toolkit!=3.0.0,!=3.0.1,<3.1.0,>=2.0.0 in c:\\users\\tiger\\miniconda3\\lib\\site-packages (from ipython>=4.0.0; python_version >= \"3.3\"->ipywidgets) (3.0.4)\nRequirement already satisfied: setuptools>=18.5 in c:\\users\\tiger\\miniconda3\\lib\\site-packages (from ipython>=4.0.0; python_version >= \"3.3\"->ipywidgets) (41.4.0)\nRequirement already satisfied: pickleshare in c:\\users\\tiger\\miniconda3\\lib\\site-packages (from ipython>=4.0.0; python_version >= \"3.3\"->ipywidgets) (0.7.5)\nRequirement already satisfied: six in c:\\users\\tiger\\miniconda3\\lib\\site-packages (from traitlets>=4.3.1->ipywidgets) (1.12.0)\nRequirement already satisfied: ipython-genutils in c:\\users\\tiger\\miniconda3\\lib\\site-packages (from traitlets>=4.3.1->ipywidgets) (0.2.0)\nRequirement already satisfied: jsonschema!=2.5.0,>=2.4 in c:\\users\\tiger\\miniconda3\\lib\\site-packages (from nbformat>=4.2.0->ipywidgets) (3.2.0)\nRequirement already satisfied: jupyter-core in c:\\users\\tiger\\miniconda3\\lib\\site-packages (from nbformat>=4.2.0->ipywidgets) (4.6.3)\nRequirement already satisfied: tornado>=4.2 in c:\\users\\tiger\\miniconda3\\lib\\site-packages (from ipykernel>=4.5.1->ipywidgets) (6.0.4)\nRequirement already satisfied: jupyter-client in c:\\users\\tiger\\miniconda3\\lib\\site-packages (from ipykernel>=4.5.1->ipywidgets) (6.1.0)\nRequirement already satisfied: notebook>=4.4.1 in c:\\users\\tiger\\miniconda3\\lib\\site-packages (from widgetsnbextension~=3.5.0->ipywidgets) (6.0.3)\nRequirement already satisfied: parso>=0.5.2 in c:\\users\\tiger\\miniconda3\\lib\\site-packages (from jedi>=0.10->ipython>=4.0.0; python_version >= \"3.3\"->ipywidgets) (0.6.2)\nRequirement already satisfied: wcwidth in c:\\users\\tiger\\miniconda3\\lib\\site-packages (from prompt-toolkit!=3.0.0,!=3.0.1,<3.1.0,>=2.0.0->ipython>=4.0.0; python_version >= \"3.3\"->ipywidgets) (0.1.9)\nRequirement already satisfied: pyrsistent>=0.14.0 in c:\\users\\tiger\\miniconda3\\lib\\site-packages (from jsonschema!=2.5.0,>=2.4->nbformat>=4.2.0->ipywidgets) (0.15.7)\nRequirement already satisfied: importlib-metadata; python_version < \"3.8\" in c:\\users\\tiger\\miniconda3\\lib\\site-packages (from jsonschema!=2.5.0,>=2.4->nbformat>=4.2.0->ipywidgets) (1.5.0)\nRequirement already satisfied: attrs>=17.4.0 in c:\\users\\tiger\\miniconda3\\lib\\site-packages (from jsonschema!=2.5.0,>=2.4->nbformat>=4.2.0->ipywidgets) (19.3.0)\nRequirement already satisfied: pywin32>=1.0; sys_platform == \"win32\" in c:\\users\\tiger\\miniconda3\\lib\\site-packages (from jupyter-core->nbformat>=4.2.0->ipywidgets) (223)\nRequirement already satisfied: pyzmq>=13 in c:\\users\\tiger\\miniconda3\\lib\\site-packages (from jupyter-client->ipykernel>=4.5.1->ipywidgets) (19.0.0)\nRequirement already satisfied: python-dateutil>=2.1 in c:\\users\\tiger\\miniconda3\\lib\\site-packages (from jupyter-client->ipykernel>=4.5.1->ipywidgets) (2.8.1)\nRequirement already satisfied: jinja2 in c:\\users\\tiger\\miniconda3\\lib\\site-packages (from notebook>=4.4.1->widgetsnbextension~=3.5.0->ipywidgets) (2.11.1)\nRequirement already satisfied: nbconvert in c:\\users\\tiger\\miniconda3\\lib\\site-packages (from notebook>=4.4.1->widgetsnbextension~=3.5.0->ipywidgets) (5.6.1)\nRequirement already satisfied: terminado>=0.8.1 in c:\\users\\tiger\\miniconda3\\lib\\site-packages (from notebook>=4.4.1->widgetsnbextension~=3.5.0->ipywidgets) (0.8.3)\nRequirement already satisfied: Send2Trash in c:\\users\\tiger\\miniconda3\\lib\\site-packages (from notebook>=4.4.1->widgetsnbextension~=3.5.0->ipywidgets) (1.5.0)\nRequirement already satisfied: prometheus-client in c:\\users\\tiger\\miniconda3\\lib\\site-packages (from notebook>=4.4.1->widgetsnbextension~=3.5.0->ipywidgets) (0.7.1)\nRequirement already satisfied: zipp>=0.5 in c:\\users\\tiger\\miniconda3\\lib\\site-packages (from importlib-metadata; python_version < \"3.8\"->jsonschema!=2.5.0,>=2.4->nbformat>=4.2.0->ipywidgets) (3.1.0)\nRequirement already satisfied: MarkupSafe>=0.23 in c:\\users\\tiger\\miniconda3\\lib\\site-packages (from jinja2->notebook>=4.4.1->widgetsnbextension~=3.5.0->ipywidgets) (1.1.1)\nRequirement already satisfied: bleach in c:\\users\\tiger\\miniconda3\\lib\\site-packages (from nbconvert->notebook>=4.4.1->widgetsnbextension~=3.5.0->ipywidgets) (3.1.3)\nRequirement already satisfied: entrypoints>=0.2.2 in c:\\users\\tiger\\miniconda3\\lib\\site-packages (from nbconvert->notebook>=4.4.1->widgetsnbextension~=3.5.0->ipywidgets) (0.3)\nRequirement already satisfied: mistune<2,>=0.8.1 in c:\\users\\tiger\\miniconda3\\lib\\site-packages (from nbconvert->notebook>=4.4.1->widgetsnbextension~=3.5.0->ipywidgets) (0.8.4)\nRequirement already satisfied: testpath in c:\\users\\tiger\\miniconda3\\lib\\site-packages (from nbconvert->notebook>=4.4.1->widgetsnbextension~=3.5.0->ipywidgets) (0.4.4)\nRequirement already satisfied: pandocfilters>=1.4.1 in c:\\users\\tiger\\miniconda3\\lib\\site-packages (from nbconvert->notebook>=4.4.1->widgetsnbextension~=3.5.0->ipywidgets) (1.4.2)\nRequirement already satisfied: defusedxml in c:\\users\\tiger\\miniconda3\\lib\\site-packages (from nbconvert->notebook>=4.4.1->widgetsnbextension~=3.5.0->ipywidgets) (0.6.0)\nRequirement already satisfied: pywinpty>=0.5; os_name == \"nt\" in c:\\users\\tiger\\miniconda3\\lib\\site-packages (from terminado>=0.8.1->notebook>=4.4.1->widgetsnbextension~=3.5.0->ipywidgets) (0.5.7)\nRequirement already satisfied: webencodings in c:\\users\\tiger\\miniconda3\\lib\\site-packages (from bleach->nbconvert->notebook>=4.4.1->widgetsnbextension~=3.5.0->ipywidgets) (0.5.1)\nInstalling collected packages: widgetsnbextension, ipywidgets\nSuccessfully installed ipywidgets-7.5.1 widgetsnbextension-3.5.1\n"
    }
   ],
   "source": [
    "!pip install ipywidgets"
   ]
  },
  {
   "cell_type": "code",
   "execution_count": 4,
   "metadata": {},
   "outputs": [
    {
     "output_type": "stream",
     "name": "stderr",
     "text": "[nltk_data] Downloading package punkt to\n[nltk_data]     C:\\Users\\Tiger\\AppData\\Roaming\\nltk_data...\n[nltk_data]   Unzipping tokenizers\\punkt.zip.\n"
    }
   ],
   "source": [
    "import numpy as np # linear algebra\n",
    "import pandas as pd # data processing, CSV file I/O (e.g. pd.read_csv)\n",
    "from pathlib import Path, PurePath\n",
    "import pandas as pd\n",
    "import requests\n",
    "from requests.exceptions import HTTPError, ConnectionError\n",
    "from ipywidgets import interact\n",
    "import ipywidgets as widgets\n",
    "from rank_bm25 import BM25Okapi\n",
    "import nltk\n",
    "from nltk.corpus import stopwords\n",
    "nltk.download(\"punkt\")\n",
    "import re"
   ]
  },
  {
   "cell_type": "code",
   "execution_count": 5,
   "metadata": {},
   "outputs": [
    {
     "output_type": "stream",
     "name": "stdout",
     "text": "Set pandas dataframe column width to 200 and max rows to 100\n"
    }
   ],
   "source": [
    "from ipywidgets import interact\n",
    "import ipywidgets as widgets\n",
    "import pandas as pd\n",
    "\n",
    "def set_column_width(ColumnWidth, MaxRows):\n",
    "    pd.options.display.max_colwidth = ColumnWidth\n",
    "    pd.options.display.max_rows = MaxRows\n",
    "    print('Set pandas dataframe column width to', ColumnWidth, 'and max rows to', MaxRows)\n",
    "    \n",
    "interact(set_column_width, \n",
    "         ColumnWidth=widgets.IntSlider(min=50, max=400, step=50, value=200),\n",
    "         MaxRows=widgets.IntSlider(min=50, max=500, step=100, value=100));"
   ]
  },
  {
   "cell_type": "code",
   "execution_count": 7,
   "metadata": {},
   "outputs": [
    {
     "output_type": "execute_result",
     "data": {
      "text/plain": "[WindowsPath('../../../../COVID19/biorxiv_medrxiv'),\n WindowsPath('../../../../COVID19/comm_use_subset'),\n WindowsPath('../../../../COVID19/COVID.DATA.LIC.AGMT.pdf'),\n WindowsPath('../../../../COVID19/custom_license'),\n WindowsPath('../../../../COVID19/json_schema.txt'),\n WindowsPath('../../../../COVID19/metadata.csv'),\n WindowsPath('../../../../COVID19/metadata.readme'),\n WindowsPath('../../../../COVID19/noncomm_use_subset')]"
     },
     "metadata": {},
     "execution_count": 7
    }
   ],
   "source": [
    "input_dir = PurePath('../../../../COVID19')\n",
    "\n",
    "list(Path(input_dir).glob('*'))"
   ]
  },
  {
   "cell_type": "code",
   "execution_count": 8,
   "metadata": {},
   "outputs": [],
   "source": [
    "metadata_path = input_dir / 'metadata.csv'\n",
    "metadata = pd.read_csv(metadata_path,\n",
    "                               dtype={'Microsoft Academic Paper ID': str,\n",
    "                                      'pubmed_id': str})\n",
    "\n",
    "# Set the abstract to the paper title if it is null\n",
    "metadata.abstract = metadata.abstract.fillna(metadata.title)"
   ]
  },
  {
   "cell_type": "markdown",
   "metadata": {},
   "source": [
    "## Create Data Classes for the Research Dataset and Papers"
   ]
  },
  {
   "cell_type": "code",
   "execution_count": 11,
   "metadata": {},
   "outputs": [],
   "source": [
    "def get(url, timeout=6):\n",
    "    try:\n",
    "        r = requests.get(url, timeout=timeout)\n",
    "        return r.text\n",
    "    except ConnectionError:\n",
    "        print(f'Cannot connect to {url}')\n",
    "        print(f'Remember to turn Internet ON in the Kaggle notebook settings')\n",
    "    except HTTPError:\n",
    "        print('Got http error', r.status, r.text)\n",
    "\n",
    "# Convert the doi to a url\n",
    "def doi_url(d): \n",
    "    return f'http://{d}' if d.startswith('doi.org') else f'http://doi.org/{d}'\n",
    "\n",
    "\n",
    "class ResearchPapers:\n",
    "    \n",
    "    def __init__(self, metadata: pd.DataFrame):\n",
    "        self.metadata = metadata\n",
    "        \n",
    "    def __getitem__(self, item):\n",
    "        return Paper(self.metadata.iloc[item])\n",
    "    \n",
    "    def __len__(self):\n",
    "        return len(self.metadata)\n",
    "    \n",
    "    def head(self, n):\n",
    "        return ResearchPapers(self.metadata.head(n).copy().reset_index(drop=True))\n",
    "    \n",
    "    def tail(self, n):\n",
    "        return ResearchPapers(self.metadata.tail(n).copy().reset_index(drop=True))\n",
    "    \n",
    "    def abstracts(self):\n",
    "        return self.metadata.abstract.dropna()\n",
    "    \n",
    "    def titles(self):\n",
    "        return self.metadata.title.dropna()\n",
    "        \n",
    "    def _repr_html_(self):\n",
    "        return self.metadata._repr_html_()\n",
    "    \n",
    "class Paper:\n",
    "    \n",
    "    '''\n",
    "    A single research paper\n",
    "    '''\n",
    "    def __init__(self, item):\n",
    "        self.paper = item.to_frame().fillna('')\n",
    "        self.paper.columns = ['Value']\n",
    "    \n",
    "    def doi(self):\n",
    "        return self.paper.loc['doi'].values[0]\n",
    "    \n",
    "    def html(self):\n",
    "        '''\n",
    "        Load the paper from doi.org and display as HTML. Requires internet to be ON\n",
    "        '''\n",
    "        if self.doi():\n",
    "            url = doi_url(self.doi()) \n",
    "            text = get(url)\n",
    "            return widgets.HTML(text)\n",
    "    \n",
    "    def text(self):\n",
    "        '''\n",
    "        Load the paper from doi.org and display as text. Requires Internet to be ON\n",
    "        '''\n",
    "        text = get(self.doi())\n",
    "        return text\n",
    "    \n",
    "    def abstract(self):\n",
    "        return self.paper.loc['abstract'].values[0]\n",
    "    \n",
    "    def title(self):\n",
    "        return self.paper.loc['title'].values[0]\n",
    "    \n",
    "    def authors(self, split=False):\n",
    "        '''\n",
    "        Get a list of authors\n",
    "        '''\n",
    "        authors = self.paper.loc['authors'].values[0]\n",
    "        if not authors:\n",
    "            return []\n",
    "        if not split:\n",
    "            return authors\n",
    "        if authors.startswith('['):\n",
    "            authors = authors.lstrip('[').rstrip(']')\n",
    "            return [a.strip().replace(\"\\'\", \"\") for a in authors.split(\"\\',\")]\n",
    "        \n",
    "        # Todo: Handle cases where author names are separated by \",\"\n",
    "        return [a.strip() for a in authors.split(';')]\n",
    "        \n",
    "    def _repr_html_(self):\n",
    "        return self.paper._repr_html_()\n",
    "    \n",
    "\n",
    "papers = ResearchPapers(metadata)"
   ]
  },
  {
   "cell_type": "markdown",
   "metadata": {},
   "source": [
    "## Creating a search index"
   ]
  },
  {
   "cell_type": "code",
   "execution_count": 17,
   "metadata": {},
   "outputs": [
    {
     "output_type": "stream",
     "name": "stderr",
     "text": "[nltk_data] Downloading package stopwords to\n[nltk_data]     C:\\Users\\Tiger\\AppData\\Roaming\\nltk_data...\n[nltk_data]   Unzipping corpora\\stopwords.zip.\n"
    },
    {
     "output_type": "execute_result",
     "data": {
      "text/plain": "True"
     },
     "metadata": {},
     "execution_count": 17
    }
   ],
   "source": [
    "from rank_bm25 import BM25Okapi\n",
    "nltk.download('stopwords')"
   ]
  },
  {
   "cell_type": "code",
   "execution_count": 19,
   "metadata": {},
   "outputs": [],
   "source": [
    "english_stopwords = list(set(stopwords.words('english')))\n",
    "\n",
    "def strip_characters(text):\n",
    "    t = re.sub('\\(|\\)|:|,|;|\\.|’|”|“|\\?|%|>|<', '', text)\n",
    "    t = re.sub('/', ' ', t)\n",
    "    t = t.replace(\"'\",'')\n",
    "    return t\n",
    "\n",
    "def clean(text):\n",
    "    t = text.lower()\n",
    "    t = strip_characters(t)\n",
    "    return t\n",
    "\n",
    "def tokenize(text):\n",
    "    words = nltk.word_tokenize(text)\n",
    "    return list(set([word for word in words \n",
    "                     if len(word) > 1\n",
    "                     and not word in english_stopwords\n",
    "                     and not (word.isnumeric() and len(word) is not 4)\n",
    "                     and (not word.isnumeric() or word.isalpha())] )\n",
    "               )\n",
    "\n",
    "def preprocess(text):\n",
    "    t = clean(text)\n",
    "    tokens = tokenize(t)\n",
    "    return tokens\n",
    "\n",
    "class SearchResults:\n",
    "    \n",
    "    def __init__(self, \n",
    "                 data: pd.DataFrame,\n",
    "                 columns = None):\n",
    "        self.results = data\n",
    "        if columns:\n",
    "            self.results = self.results[columns]\n",
    "            \n",
    "    def __getitem__(self, item):\n",
    "        return Paper(self.results.loc[item])\n",
    "    \n",
    "    def __len__(self):\n",
    "        return len(self.results)\n",
    "        \n",
    "    def _repr_html_(self):\n",
    "        return self.results._repr_html_()\n",
    "\n",
    "SEARCH_DISPLAY_COLUMNS = ['title', 'abstract', 'doi', 'authors', 'journal']\n",
    "    \n",
    "class RankBM25Index:\n",
    "    \n",
    "    def __init__(self, corpus: pd.DataFrame, columns=SEARCH_DISPLAY_COLUMNS):\n",
    "        self.corpus = corpus\n",
    "        self.columns = columns\n",
    "        raw_search_str = self.corpus.abstract.fillna('') + ' ' + self.corpus.title.fillna('')\n",
    "        self.index = raw_search_str.apply(preprocess).to_frame()\n",
    "        self.index.columns = ['terms']\n",
    "        self.index.index = self.corpus.index\n",
    "        self.bm25 = BM25Okapi(self.index.terms.tolist())\n",
    "        \n",
    "    def search(self, search_string, n=4):\n",
    "        search_terms = preprocess(search_string)\n",
    "        doc_scores = self.bm25.get_scores(search_terms)\n",
    "        ind = np.argsort(doc_scores)[::-1][:n]\n",
    "        results = self.corpus.iloc[ind][self.columns]\n",
    "        results['Score'] = doc_scores[ind]\n",
    "        results = results[results.Score > 0]\n",
    "        return SearchResults(results.reset_index(), self.columns + ['Score'])\n",
    "    \n",
    "bm25_index = RankBM25Index(metadata.head(10000))"
   ]
  },
  {
   "cell_type": "code",
   "execution_count": 21,
   "metadata": {},
   "outputs": [
    {
     "output_type": "execute_result",
     "data": {
      "text/plain": "<__main__.SearchResults at 0x2678d5b67c8>",
      "text/html": "<div>\n<style scoped>\n    .dataframe tbody tr th:only-of-type {\n        vertical-align: middle;\n    }\n\n    .dataframe tbody tr th {\n        vertical-align: top;\n    }\n\n    .dataframe thead th {\n        text-align: right;\n    }\n</style>\n<table border=\"1\" class=\"dataframe\">\n  <thead>\n    <tr style=\"text-align: right;\">\n      <th></th>\n      <th>title</th>\n      <th>abstract</th>\n      <th>doi</th>\n      <th>authors</th>\n      <th>journal</th>\n      <th>Score</th>\n    </tr>\n  </thead>\n  <tbody>\n    <tr>\n      <th>0</th>\n      <td>Chapter 34 Cruise Ship Travel</td>\n      <td>Chapter 34 Cruise Ship Travel</td>\n      <td>10.1016/B978-0-323-03453-1.10034-3</td>\n      <td>Mitruka, Kiren; Wheeler, Robert E.</td>\n      <td>Travel Medicine</td>\n      <td>26.485593</td>\n    </tr>\n    <tr>\n      <th>1</th>\n      <td>40 Cruise Ship Travel</td>\n      <td>Abstract Cruise ships can be amplifiers of infectious diseases because of the close human proximity of semiclosed ship environments. The most common diagnoses of cruise passengers evaluated in cru...</td>\n      <td>10.1016/B978-0-323-54696-6.00040-9</td>\n      <td>Hill, Carter D.</td>\n      <td>Travel Medicine</td>\n      <td>14.745112</td>\n    </tr>\n    <tr>\n      <th>2</th>\n      <td>Chapter 4 Cruise Geography</td>\n      <td>Chapter 4 Cruise Geography</td>\n      <td>10.1016/B978-0-7506-7835-3.50008-X</td>\n      <td>NaN</td>\n      <td>Cruise Operations Management</td>\n      <td>13.044365</td>\n    </tr>\n    <tr>\n      <th>3</th>\n      <td>Chapter 1 Contemporary Cruise Operations</td>\n      <td>Chapter 1 Contemporary Cruise Operations</td>\n      <td>10.1016/B978-0-7506-7835-3.50005-4</td>\n      <td>NaN</td>\n      <td>Cruise Operations Management</td>\n      <td>12.855523</td>\n    </tr>\n  </tbody>\n</table>\n</div>"
     },
     "metadata": {},
     "execution_count": 21
    }
   ],
   "source": [
    "results = bm25_index.search('cruise ship')\n",
    "results"
   ]
  },
  {
   "cell_type": "code",
   "execution_count": 22,
   "metadata": {},
   "outputs": [
    {
     "output_type": "execute_result",
     "data": {
      "text/plain": "'Chapter 1 Contemporary Cruise Operations'"
     },
     "metadata": {},
     "execution_count": 22
    }
   ],
   "source": [
    "results[3].title()"
   ]
  },
  {
   "cell_type": "markdown",
   "metadata": {},
   "source": [
    "## Research Papers for each task"
   ]
  },
  {
   "cell_type": "code",
   "execution_count": 23,
   "metadata": {},
   "outputs": [
    {
     "output_type": "stream",
     "name": "stdout",
     "text": "What is known about transmission, incubation, and environmental stability?\n"
    },
    {
     "output_type": "display_data",
     "data": {
      "text/plain": "<__main__.SearchResults at 0x2678f84ec88>",
      "text/html": "<div>\n<style scoped>\n    .dataframe tbody tr th:only-of-type {\n        vertical-align: middle;\n    }\n\n    .dataframe tbody tr th {\n        vertical-align: top;\n    }\n\n    .dataframe thead th {\n        text-align: right;\n    }\n</style>\n<table border=\"1\" class=\"dataframe\">\n  <thead>\n    <tr style=\"text-align: right;\">\n      <th></th>\n      <th>title</th>\n      <th>abstract</th>\n      <th>doi</th>\n      <th>authors</th>\n      <th>journal</th>\n      <th>Score</th>\n    </tr>\n  </thead>\n  <tbody>\n    <tr>\n      <th>0</th>\n      <td>Chapter 22 Environmentally Transmitted Pathogens</td>\n      <td>This chapter describes a variety of pathogens found in the environment that are capable of infecting humans and causing disease. Different classes of pathogens are discussed including bacteria, pa...</td>\n      <td>10.1016/B978-0-12-394626-3.00022-3</td>\n      <td>Gerba, Charles P.</td>\n      <td>Environmental Microbiology</td>\n      <td>11.231821</td>\n    </tr>\n    <tr>\n      <th>1</th>\n      <td>MERS-CoV outbreak following a single patient exposure in an emergency room in South Korea: an epidemiological outbreak study</td>\n      <td>Summary Background In 2015, a large outbreak of Middle East respiratory syndrome coronavirus (MERS-CoV) infection occurred following a single patient exposure in an emergency room at the Samsung M...</td>\n      <td>10.1016/S0140-6736(16)30623-7</td>\n      <td>Cho, Sun Young; Kang, Ji-Man; Ha, Young Eun; Park, Ga Eun; Lee, Ji Yeon; Ko, Jae-Hoon; Lee, Ji Yong; Kim, Jong Min; Kang, Cheol-In; Jo, Ik Joon; Ryu, Jae Geum; Choi, Jong Rim; Kim, Seonwoo; Huh, H...</td>\n      <td>The Lancet</td>\n      <td>8.580750</td>\n    </tr>\n    <tr>\n      <th>2</th>\n      <td>Induction of lactogenic immunity to transmissible gastroenteritis virus of swine using an attenuated coronavirus mutant able to survive in the physicochemical environment of the digestive tract</td>\n      <td>Induction of lactogenic immunity to transmissible gastroenteritis virus of swine using an attenuated coronavirus mutant able to survive in the physicochemical environment of the digestive tract</td>\n      <td>10.1016/0264-410X(92)90273-M</td>\n      <td>Aynaud, J.M.; Bernard, S.; Bottreau, E.; Lantier, I.; Salmon, H.; Vannier, Ph.</td>\n      <td>Vaccine</td>\n      <td>8.351886</td>\n    </tr>\n    <tr>\n      <th>3</th>\n      <td>Chapter 17 Meat Safety—I Foodborne Pathogens and Other Biological Issues</td>\n      <td>Abstract This chapter presents information pertinent to foodborne pathogens (bacteria and bacterial toxins, viruses, parasites) and other biological issues (prions) with importance to the safety o...</td>\n      <td>10.1016/B978-0-08-100694-8.00017-0</td>\n      <td>Lianou, Alexandra; Panagou, Efstathios Z.; Nychas, George-John E.</td>\n      <td>Lawrie´s Meat Science</td>\n      <td>7.678443</td>\n    </tr>\n    <tr>\n      <th>4</th>\n      <td>Deactivated triple vaccine for abortus fever, Ibaraki disease and Akabane disease produced by incubation of the viruses in cell culture</td>\n      <td>Deactivated triple vaccine for abortus fever, Ibaraki disease and Akabane disease produced by incubation of the viruses in cell culture</td>\n      <td>10.1016/0264-410X(88)90167-3</td>\n      <td>NaN</td>\n      <td>Vaccine</td>\n      <td>7.455350</td>\n    </tr>\n    <tr>\n      <th>...</th>\n      <td>...</td>\n      <td>...</td>\n      <td>...</td>\n      <td>...</td>\n      <td>...</td>\n      <td>...</td>\n    </tr>\n    <tr>\n      <th>195</th>\n      <td>Chapter 11 Nanotechnology and sialic acid biology</td>\n      <td>Abstract Nanotechnology is the science of matter at size in a scale of 1/1,000,000,000 of a meter. In the last century, considerable progress has been made in the field of nanotechnology and its f...</td>\n      <td>10.1016/B978-0-12-816126-5.00011-1</td>\n      <td>Ghosh, Shyamasree</td>\n      <td>Sialic Acids and Sialoglycoconjugates in the Biology of Life, Health and Disease</td>\n      <td>3.479238</td>\n    </tr>\n    <tr>\n      <th>196</th>\n      <td>Chapter 3 Replication and Expression Strategies of Viruses</td>\n      <td>Summary Regardless of their genetic constitution, viral genomes are replicated, expressed, and assembled in association with living host cells. These entities do not undergo division, but rather g...</td>\n      <td>10.1016/B978-0-12-811257-1.00003-6</td>\n      <td>Rampersad, Sephra; Tennant, Paula</td>\n      <td>Viruses</td>\n      <td>3.479238</td>\n    </tr>\n    <tr>\n      <th>197</th>\n      <td>Chapter 36 Identifying, Understanding, and Managing Patient Safety and Clinical Risks in the Clinical Research Environment</td>\n      <td>Abstract Meticulous study design, exacting scientific review, scrupulous data management, rigorous human subjects' protection, and effective recruitment strategies are essential components of all ...</td>\n      <td>10.1016/B978-0-12-849905-4.00036-8</td>\n      <td>Lee, Laura M.; Henderson, David K.</td>\n      <td>Principles and Practice of Clinical Research</td>\n      <td>3.479238</td>\n    </tr>\n    <tr>\n      <th>198</th>\n      <td>Antibody detection of SARS-CoV spike and nucleocapsid protein</td>\n      <td>Abstract Early detection and identification of SARS-CoV-infected patients and actions to prevent transmission are absolutely critical to prevent another SARS outbreak. Antibodies that specifically...</td>\n      <td>10.1016/j.bbrc.2003.12.195</td>\n      <td>Chang, Mau-Sun; Lu, Yen-Ta; Ho, Shin-Tsung; Wu, Chao-Chih; Wei, Tsai-Yin; Chen, Chia-Ju; Hsu, Yun-Ting; Chu, Po-Chen; Chen, Ching-Hsin; Chu, Jien-Ming; Jan, Ya-Lin; Hung, Chia-Chien; Fan, Chi-Chen...</td>\n      <td>Biochemical and Biophysical Research Communications</td>\n      <td>3.472354</td>\n    </tr>\n    <tr>\n      <th>199</th>\n      <td>Comparison of monoclonal biotin-avidin enzyme immunoassay and monoclonal time-resolved fluoroimmunoassay in detection of respiratory virus antigens</td>\n      <td>Abstract Background: Detection of respiratory viruses by time-resolved fluoroimmunoassay based on monoclonal antibodies were developed in our laboratories in the late 1980s and they have been succ...</td>\n      <td>10.1016/0928-0197(94)00050-5</td>\n      <td>Scalia, Guido; Halonen, Pekka E.; Condorelli, Francesca; Mattila, Marja L.; Hierholzer, John C.</td>\n      <td>Clinical and Diagnostic Virology</td>\n      <td>3.463210</td>\n    </tr>\n  </tbody>\n</table>\n<p>200 rows × 6 columns</p>\n</div>"
     },
     "metadata": {}
    }
   ],
   "source": [
    "tasks = [('What is known about transmission, incubation, and environmental stability?', \n",
    "        'transmission incubation environment coronavirus'),\n",
    "        ('What do we know about COVID-19 risk factors?', 'risk factors'),\n",
    "        ('What do we know about virus genetics, origin, and evolution?', 'genetics origin evolution'),\n",
    "        ('What has been published about ethical and social science considerations','ethics ethical social'),\n",
    "        ('What do we know about diagnostics and surveillance?','diagnose diagnostic surveillance'),\n",
    "        ('What has been published about medical care?', 'medical care'),\n",
    "        ('What do we know about vaccines and therapeutics?', 'vaccines vaccine vaccinate therapeutic therapeutics')] \n",
    "tasks = pd.DataFrame(tasks, columns=['Task', 'Keywords'])\n",
    "\n",
    "\n",
    "def show_task(Task):\n",
    "    print(Task)\n",
    "    keywords = tasks[tasks.Task == Task].Keywords.values[0]\n",
    "    search_results = bm25_index.search(keywords, n=200)\n",
    "    return search_results\n",
    "    \n",
    "results = interact(show_task, Task = tasks.Task.tolist());"
   ]
  },
  {
   "cell_type": "markdown",
   "metadata": {},
   "source": [
    "## Creating an Autocomplete Search bar"
   ]
  },
  {
   "cell_type": "code",
   "execution_count": 24,
   "metadata": {},
   "outputs": [
    {
     "output_type": "display_data",
     "data": {
      "text/plain": "<__main__.SearchResults at 0x26799aa7d08>",
      "text/html": "<div>\n<style scoped>\n    .dataframe tbody tr th:only-of-type {\n        vertical-align: middle;\n    }\n\n    .dataframe tbody tr th {\n        vertical-align: top;\n    }\n\n    .dataframe thead th {\n        text-align: right;\n    }\n</style>\n<table border=\"1\" class=\"dataframe\">\n  <thead>\n    <tr style=\"text-align: right;\">\n      <th></th>\n      <th>title</th>\n      <th>abstract</th>\n      <th>doi</th>\n      <th>authors</th>\n      <th>journal</th>\n      <th>Score</th>\n    </tr>\n  </thead>\n  <tbody>\n    <tr>\n      <th>0</th>\n      <td>Chapter 34 Cruise Ship Travel</td>\n      <td>Chapter 34 Cruise Ship Travel</td>\n      <td>10.1016/B978-0-323-03453-1.10034-3</td>\n      <td>Mitruka, Kiren; Wheeler, Robert E.</td>\n      <td>Travel Medicine</td>\n      <td>26.485593</td>\n    </tr>\n    <tr>\n      <th>1</th>\n      <td>40 Cruise Ship Travel</td>\n      <td>Abstract Cruise ships can be amplifiers of infectious diseases because of the close human proximity of semiclosed ship environments. The most common diagnoses of cruise passengers evaluated in cru...</td>\n      <td>10.1016/B978-0-323-54696-6.00040-9</td>\n      <td>Hill, Carter D.</td>\n      <td>Travel Medicine</td>\n      <td>14.745112</td>\n    </tr>\n    <tr>\n      <th>2</th>\n      <td>Chapter 4 Cruise Geography</td>\n      <td>Chapter 4 Cruise Geography</td>\n      <td>10.1016/B978-0-7506-7835-3.50008-X</td>\n      <td>NaN</td>\n      <td>Cruise Operations Management</td>\n      <td>13.044365</td>\n    </tr>\n    <tr>\n      <th>3</th>\n      <td>Chapter 1 Contemporary Cruise Operations</td>\n      <td>Chapter 1 Contemporary Cruise Operations</td>\n      <td>10.1016/B978-0-7506-7835-3.50005-4</td>\n      <td>NaN</td>\n      <td>Cruise Operations Management</td>\n      <td>12.855523</td>\n    </tr>\n    <tr>\n      <th>4</th>\n      <td>59 Respiratory Infections</td>\n      <td>Abstract Respiratory tract infections (RTIs) are a common health problem of international travelers. Travelers may be at increased risk of RTIs due to travel itself (mingling and close quarters in...</td>\n      <td>10.1016/B978-0-323-54696-6.00059-8</td>\n      <td>Saleri, Nuccia; Ryan, Edward T.</td>\n      <td>Travel Medicine</td>\n      <td>6.933430</td>\n    </tr>\n    <tr>\n      <th>5</th>\n      <td>Chapter 22 Cetacea</td>\n      <td>Abstract This chapter presents the pathology of cetaceans, a diverse group of mammals restricted exclusively to aquatic habitats. The taxa include the largest mammals on earth, the baleen whales, ...</td>\n      <td>10.1016/B978-0-12-805306-5.00022-5</td>\n      <td>St. Leger, Judy; Raverty, Stephen; Mena, Alexandria</td>\n      <td>Pathology of Wildlife and Zoo Animals</td>\n      <td>6.445330</td>\n    </tr>\n  </tbody>\n</table>\n</div>"
     },
     "metadata": {}
    }
   ],
   "source": [
    "from IPython.display import display\n",
    "\n",
    "def search_papers(SearchTerms: str):\n",
    "    search_results = bm25_index.search(SearchTerms, n=10)\n",
    "    if len(search_results) > 0:\n",
    "        display(search_results) \n",
    "    return search_results\n",
    "\n",
    "searchbar = widgets.interactive(search_papers, SearchTerms='cruise ship')\n",
    "searchbar"
   ]
  },
  {
   "cell_type": "markdown",
   "metadata": {},
   "source": [
    "## Access the search results"
   ]
  },
  {
   "cell_type": "code",
   "execution_count": 25,
   "metadata": {},
   "outputs": [
    {
     "output_type": "execute_result",
     "data": {
      "text/plain": "<__main__.Paper at 0x26799ac5448>",
      "text/html": "<div>\n<style scoped>\n    .dataframe tbody tr th:only-of-type {\n        vertical-align: middle;\n    }\n\n    .dataframe tbody tr th {\n        vertical-align: top;\n    }\n\n    .dataframe thead th {\n        text-align: right;\n    }\n</style>\n<table border=\"1\" class=\"dataframe\">\n  <thead>\n    <tr style=\"text-align: right;\">\n      <th></th>\n      <th>Value</th>\n    </tr>\n  </thead>\n  <tbody>\n    <tr>\n      <th>title</th>\n      <td>Chapter 34 Cruise Ship Travel</td>\n    </tr>\n    <tr>\n      <th>abstract</th>\n      <td>Chapter 34 Cruise Ship Travel</td>\n    </tr>\n    <tr>\n      <th>doi</th>\n      <td>10.1016/B978-0-323-03453-1.10034-3</td>\n    </tr>\n    <tr>\n      <th>authors</th>\n      <td>Mitruka, Kiren; Wheeler, Robert E.</td>\n    </tr>\n    <tr>\n      <th>journal</th>\n      <td>Travel Medicine</td>\n    </tr>\n    <tr>\n      <th>Score</th>\n      <td>26.4856</td>\n    </tr>\n  </tbody>\n</table>\n</div>"
     },
     "metadata": {},
     "execution_count": 25
    }
   ],
   "source": [
    "searchbar.result[0]"
   ]
  },
  {
   "cell_type": "markdown",
   "metadata": {},
   "source": [
    "## Parsing Json files"
   ]
  },
  {
   "cell_type": "code",
   "execution_count": 27,
   "metadata": {},
   "outputs": [],
   "source": [
    "json_path = '../../../../COVID19/custom_license/custom_license/aecbc613ebdab36753235197ffb4f35734b5ca63.json'\n",
    "\n",
    "\n",
    "import json\n",
    "import collections\n",
    "from functools import  partial\n",
    "\n",
    "def load_json(json_file):\n",
    "    with open(json_file, 'r') as f:\n",
    "        return json.load(f)\n",
    "\n",
    "paper_json = load_json(json_path)"
   ]
  },
  {
   "cell_type": "code",
   "execution_count": 29,
   "metadata": {},
   "outputs": [],
   "source": [
    "def get_text(paper, text_key):\n",
    "    body_dict = collections.defaultdict(list)\n",
    "    for rec in paper[text_key]:\n",
    "        body_dict[rec['section']].append(rec['text'])\n",
    "    \n",
    "    body = ''\n",
    "    for section, text_sections in body_dict.items():\n",
    "        body += section + '\\n\\n'\n",
    "        for text in text_sections:\n",
    "            body += text + '\\n\\n'\n",
    "    return body\n",
    "\n",
    "get_body = partial(get_text, text_key='body_text')\n",
    "get_abstract = partial(get_text, text_key='abstract') "
   ]
  },
  {
   "cell_type": "code",
   "execution_count": 30,
   "metadata": {},
   "outputs": [
    {
     "output_type": "stream",
     "name": "stdout",
     "text": "\n\nThe patient (Fo, ) was a 58 year old mentally retarded white woman, born in a rural area of southwestern Virginia.\n\nIn July 1967 she was referred to the University of Virginia Hospital (UVH) because of edema of the legs and facial swelling of recent onset. She admitted having arthralgias but denied having recent rash, pleurisy or hair loss. Previous medical history revealed that a systolic heart murmur had been heard in 1962. A hemogram and urinalysis at that time were normal. In June 1963 she had been admitted to her local hospital with congestive heart failure attributed to mitral insufficiency.\n\nLaboratory studies included a positive lupus erythematosus cell preparation, and she received a brief course of prednisone therapy. A pruritic rash of her neck and trunk was recorded in June 1964.\n\nFamily members included a healthy twin sister (Case 2), who was identical in appearance.\n\nThe sisters shared the phenotype Gm (3, 5, 13, 14) ; Inv(-l)* and common red blood cell groups (type 0, \n"
    }
   ],
   "source": [
    "body = get_body(paper_json)\n",
    "print(body[:1000])"
   ]
  },
  {
   "cell_type": "code",
   "execution_count": 32,
   "metadata": {},
   "outputs": [
    {
     "output_type": "stream",
     "name": "stdout",
     "text": "Abstract\n\nMiddle-aged female identical twins, one of whom had systemic lupus erythematosus (SLE), were evaluated for immunologic reactivity to previous antigenic challenges, including primary immunization with a foreign antigen, keyhole limpet hemocyanin (KLH). These two women had lived together for all of their 58 years and neither was receiving anti-inflammatory or immunosuppressive drugs at the time of these studies. Both twins demonstrated comparable 7s and 19s humoral antibody response to KLH, as well as similar viral antibody titers. However, the twin with SLE was anergic to common antigens, streptokinase-streptodornase, Trichophyton and Candida; furthermore delayed hypersensitivity to KLH did not develop after immunization. This observed discrepancy between humoral and cellular immunity in genetically similar subjects may be significant in the pathogenesis of SLE.\n\nReports of an increased incidence of systemic lupus erythematosus (SLE), other connective tissue diseases, and sero\n"
    }
   ],
   "source": [
    "abstract = get_abstract(paper_json)\n",
    "print(abstract[:1000])"
   ]
  },
  {
   "cell_type": "code",
   "execution_count": 33,
   "metadata": {},
   "outputs": [
    {
     "output_type": "execute_result",
     "data": {
      "text/plain": "['Carolyn M Brunner',\n 'A David',\n ' Horwitz',\n 'K Mary',\n ' Shann',\n 'Benjamin A Sturgill',\n 'S John',\n ' Davis',\n 'Virginia Charlottesville']"
     },
     "metadata": {},
     "execution_count": 33
    }
   ],
   "source": [
    "def author_name(author_json):\n",
    "    first = author_json.get('first')\n",
    "    middle = \"\".join(author_json.get('middle'))\n",
    "    last = author_json.get('last')\n",
    "    if middle:\n",
    "        return ' '.join([first, middle, last])\n",
    "    return ' '.join([first, last])\n",
    "\n",
    "def get_affiliation(author_json):\n",
    "    affiliation = author_json['affiliation']\n",
    "    institution = affiliation.get('institution', '')\n",
    "    location = affiliation.get('location')\n",
    "    if location:\n",
    "        location = ' '.join(location.values())\n",
    "    return f'{institution}, {location}'\n",
    "\n",
    "def get_authors(paper, include_affiliation=False):\n",
    "    if include_affiliation:\n",
    "        return [f'{author_name(a)}, {get_affiliation(a)}'\n",
    "                   for a in paper['metadata']['authors']]\n",
    "    else:\n",
    "        return [author_name(a) for a in paper['metadata']['authors']]\n",
    "    \n",
    "authors = get_authors(paper_json)\n",
    "authors"
   ]
  },
  {
   "cell_type": "markdown",
   "metadata": {},
   "source": [
    "## The CORD Research Paper Search Engine"
   ]
  },
  {
   "cell_type": "code",
   "execution_count": null,
   "metadata": {},
   "outputs": [],
   "source": []
  }
 ]
}