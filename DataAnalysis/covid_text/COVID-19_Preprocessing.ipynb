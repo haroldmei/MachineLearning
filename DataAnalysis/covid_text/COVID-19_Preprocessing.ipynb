{
 "cells": [
  {
   "cell_type": "markdown",
   "metadata": {},
   "source": [
    "# Pre-processing Pipeline\n",
    "## COVID-19 Open Research Dataset Challenge (CORD-19)\n",
    "\n",
    "### Task Details\n",
    "What is known about transmission, incubation, and environmental stability? What do we know about natural history, transmission, and diagnostics for the virus? What have we learned about infection prevention and control?\n",
    "\n",
    "The first question we need to ask is what we mean by transmission, incubation, and environmental stability -- or, rather, what should a computer understand when we ask this? We can go about encoding this information in several ways: 1) keywords for analysis in some kind of TF-IDF format, probably including a list of synonyms that we would need to develop by hand, 2) high-dimensional vectors vis a vis word2vec or GloVe, or 3) using heavy, but state-of-the-art transformer models for vectorization. \n",
    "\n",
    "Keywords probably aren't going to give us the robust results we're looking for, because typical pre-processing methods remove all sorts of punctuation and numbers, but these are really important in biomedical texts! We could skip the pre-processing except for removing stop words, but we'd still need to address the fact that keywords have synonyms, and we'd need to hand-write these. But there may be an easier way to get better results without all the hassle. \n",
    "\n",
    "I propose method 2: spaCy is a popular NLP package that's blazingly fast and has (mostly) everything we need to process the text. It'll break sentences apart, lemmatize, and even provide vectors for us. Spacy vectors are somewhat simplistic because the vector of several tokens is just the average of the vectors of each token individually -- so we may not get state of the art results. But we'll get them fast, and we'll know if we need to change something up!"
   ]
  },
  {
   "cell_type": "code",
   "execution_count": 63,
   "metadata": {},
   "outputs": [],
   "source": [
    "#!pip install spac scispacy spacy_langdetect https://s3-us-west-2.amazonaws.com/ai2-s2-scispacy/releases/v0.2.3/en_core_sci_lg-0.2.3.tar.gz"
   ]
  },
  {
   "cell_type": "code",
   "execution_count": 64,
   "metadata": {},
   "outputs": [
    {
     "output_type": "stream",
     "name": "stdout",
     "text": "Requirement already satisfied: spacy in c:\\users\\tiger\\miniconda3\\lib\\site-packages (2.2.4)\nRequirement already satisfied: catalogue<1.1.0,>=0.0.7 in c:\\users\\tiger\\miniconda3\\lib\\site-packages (from spacy) (1.0.0)\nRequirement already satisfied: tqdm<5.0.0,>=4.38.0 in c:\\users\\tiger\\miniconda3\\lib\\site-packages (from spacy) (4.44.0)\nRequirement already satisfied: preshed<3.1.0,>=3.0.2 in c:\\users\\tiger\\miniconda3\\lib\\site-packages (from spacy) (3.0.2)\nRequirement already satisfied: blis<0.5.0,>=0.4.0 in c:\\users\\tiger\\miniconda3\\lib\\site-packages (from spacy) (0.4.1)\nRequirement already satisfied: srsly<1.1.0,>=1.0.2 in c:\\users\\tiger\\miniconda3\\lib\\site-packages (from spacy) (1.0.2)\nRequirement already satisfied: setuptools in c:\\users\\tiger\\miniconda3\\lib\\site-packages (from spacy) (41.4.0)\nRequirement already satisfied: numpy>=1.15.0 in c:\\users\\tiger\\miniconda3\\lib\\site-packages (from spacy) (1.18.2)\nRequirement already satisfied: plac<1.2.0,>=0.9.6 in c:\\users\\tiger\\miniconda3\\lib\\site-packages (from spacy) (1.1.3)\nRequirement already satisfied: wasabi<1.1.0,>=0.4.0 in c:\\users\\tiger\\miniconda3\\lib\\site-packages (from spacy) (0.6.0)\nRequirement already satisfied: cymem<2.1.0,>=2.0.2 in c:\\users\\tiger\\miniconda3\\lib\\site-packages (from spacy) (2.0.3)\nRequirement already satisfied: requests<3.0.0,>=2.13.0 in c:\\users\\tiger\\miniconda3\\lib\\site-packages (from spacy) (2.22.0)\nRequirement already satisfied: murmurhash<1.1.0,>=0.28.0 in c:\\users\\tiger\\miniconda3\\lib\\site-packages (from spacy) (1.0.2)\nRequirement already satisfied: thinc==7.4.0 in c:\\users\\tiger\\miniconda3\\lib\\site-packages (from spacy) (7.4.0)\nRequirement already satisfied: importlib-metadata>=0.20; python_version < \"3.8\" in c:\\users\\tiger\\miniconda3\\lib\\site-packages (from catalogue<1.1.0,>=0.0.7->spacy) (1.5.0)\nRequirement already satisfied: idna<2.9,>=2.5 in c:\\users\\tiger\\miniconda3\\lib\\site-packages (from requests<3.0.0,>=2.13.0->spacy) (2.8)\nRequirement already satisfied: chardet<3.1.0,>=3.0.2 in c:\\users\\tiger\\miniconda3\\lib\\site-packages (from requests<3.0.0,>=2.13.0->spacy) (3.0.4)\nRequirement already satisfied: certifi>=2017.4.17 in c:\\users\\tiger\\miniconda3\\lib\\site-packages (from requests<3.0.0,>=2.13.0->spacy) (2019.11.28)\nRequirement already satisfied: urllib3!=1.25.0,!=1.25.1,<1.26,>=1.21.1 in c:\\users\\tiger\\miniconda3\\lib\\site-packages (from requests<3.0.0,>=2.13.0->spacy) (1.24.2)\nRequirement already satisfied: zipp>=0.5 in c:\\users\\tiger\\miniconda3\\lib\\site-packages (from importlib-metadata>=0.20; python_version < \"3.8\"->catalogue<1.1.0,>=0.0.7->spacy) (3.1.0)\nRequirement already satisfied: scispacy in c:\\users\\tiger\\miniconda3\\lib\\site-packages (0.2.4)\nRequirement already satisfied: spacy>=2.2.1 in c:\\users\\tiger\\miniconda3\\lib\\site-packages (from scispacy) (2.2.4)\nRequirement already satisfied: awscli in c:\\users\\tiger\\miniconda3\\lib\\site-packages (from scispacy) (1.18.31)\nRequirement already satisfied: nmslib>=1.7.3.6 in c:\\users\\tiger\\miniconda3\\lib\\site-packages (from scispacy) (2.0.5)\nRequirement already satisfied: scikit-learn>=0.20.3 in c:\\users\\tiger\\miniconda3\\lib\\site-packages (from scispacy) (0.22.2.post1)\nRequirement already satisfied: pysbd in c:\\users\\tiger\\miniconda3\\lib\\site-packages (from scispacy) (0.2.3)\nRequirement already satisfied: numpy in c:\\users\\tiger\\miniconda3\\lib\\site-packages (from scispacy) (1.18.2)\nRequirement already satisfied: joblib in c:\\users\\tiger\\miniconda3\\lib\\site-packages (from scispacy) (0.14.1)\nRequirement already satisfied: conllu in c:\\users\\tiger\\miniconda3\\lib\\site-packages (from scispacy) (2.3.2)\nRequirement already satisfied: plac<1.2.0,>=0.9.6 in c:\\users\\tiger\\miniconda3\\lib\\site-packages (from spacy>=2.2.1->scispacy) (1.1.3)\nRequirement already satisfied: blis<0.5.0,>=0.4.0 in c:\\users\\tiger\\miniconda3\\lib\\site-packages (from spacy>=2.2.1->scispacy) (0.4.1)\nRequirement already satisfied: cymem<2.1.0,>=2.0.2 in c:\\users\\tiger\\miniconda3\\lib\\site-packages (from spacy>=2.2.1->scispacy) (2.0.3)\nRequirement already satisfied: catalogue<1.1.0,>=0.0.7 in c:\\users\\tiger\\miniconda3\\lib\\site-packages (from spacy>=2.2.1->scispacy) (1.0.0)\nRequirement already satisfied: murmurhash<1.1.0,>=0.28.0 in c:\\users\\tiger\\miniconda3\\lib\\site-packages (from spacy>=2.2.1->scispacy) (1.0.2)\nRequirement already satisfied: thinc==7.4.0 in c:\\users\\tiger\\miniconda3\\lib\\site-packages (from spacy>=2.2.1->scispacy) (7.4.0)\nRequirement already satisfied: srsly<1.1.0,>=1.0.2 in c:\\users\\tiger\\miniconda3\\lib\\site-packages (from spacy>=2.2.1->scispacy) (1.0.2)\nRequirement already satisfied: wasabi<1.1.0,>=0.4.0 in c:\\users\\tiger\\miniconda3\\lib\\site-packages (from spacy>=2.2.1->scispacy) (0.6.0)\nRequirement already satisfied: requests<3.0.0,>=2.13.0 in c:\\users\\tiger\\miniconda3\\lib\\site-packages (from spacy>=2.2.1->scispacy) (2.22.0)\nRequirement already satisfied: preshed<3.1.0,>=3.0.2 in c:\\users\\tiger\\miniconda3\\lib\\site-packages (from spacy>=2.2.1->scispacy) (3.0.2)\nRequirement already satisfied: setuptools in c:\\users\\tiger\\miniconda3\\lib\\site-packages (from spacy>=2.2.1->scispacy) (41.4.0)\nRequirement already satisfied: tqdm<5.0.0,>=4.38.0 in c:\\users\\tiger\\miniconda3\\lib\\site-packages (from spacy>=2.2.1->scispacy) (4.44.0)\nRequirement already satisfied: s3transfer<0.4.0,>=0.3.0 in c:\\users\\tiger\\miniconda3\\lib\\site-packages (from awscli->scispacy) (0.3.3)\nRequirement already satisfied: PyYAML<5.4,>=3.10; python_version != \"3.4\" in c:\\users\\tiger\\miniconda3\\lib\\site-packages (from awscli->scispacy) (5.3.1)\nRequirement already satisfied: botocore==1.15.31 in c:\\users\\tiger\\miniconda3\\lib\\site-packages (from awscli->scispacy) (1.15.31)\nRequirement already satisfied: docutils<0.16,>=0.10 in c:\\users\\tiger\\miniconda3\\lib\\site-packages (from awscli->scispacy) (0.15.2)\nRequirement already satisfied: colorama<0.4.4,>=0.2.5; python_version != \"3.4\" in c:\\users\\tiger\\miniconda3\\lib\\site-packages (from awscli->scispacy) (0.4.3)\nRequirement already satisfied: rsa<=3.5.0,>=3.1.2 in c:\\users\\tiger\\miniconda3\\lib\\site-packages (from awscli->scispacy) (3.4.2)\nRequirement already satisfied: psutil in c:\\users\\tiger\\miniconda3\\lib\\site-packages (from nmslib>=1.7.3.6->scispacy) (5.7.0)\nRequirement already satisfied: pybind11>=2.2.3 in c:\\users\\tiger\\miniconda3\\lib\\site-packages (from nmslib>=1.7.3.6->scispacy) (2.4.3)\nRequirement already satisfied: scipy>=0.17.0 in c:\\users\\tiger\\miniconda3\\lib\\site-packages (from scikit-learn>=0.20.3->scispacy) (1.4.1)\nRequirement already satisfied: importlib-metadata>=0.20; python_version < \"3.8\" in c:\\users\\tiger\\miniconda3\\lib\\site-packages (from catalogue<1.1.0,>=0.0.7->spacy>=2.2.1->scispacy) (1.5.0)\nRequirement already satisfied: urllib3!=1.25.0,!=1.25.1,<1.26,>=1.21.1 in c:\\users\\tiger\\miniconda3\\lib\\site-packages (from requests<3.0.0,>=2.13.0->spacy>=2.2.1->scispacy) (1.24.2)\nRequirement already satisfied: idna<2.9,>=2.5 in c:\\users\\tiger\\miniconda3\\lib\\site-packages (from requests<3.0.0,>=2.13.0->spacy>=2.2.1->scispacy) (2.8)\nRequirement already satisfied: chardet<3.1.0,>=3.0.2 in c:\\users\\tiger\\miniconda3\\lib\\site-packages (from requests<3.0.0,>=2.13.0->spacy>=2.2.1->scispacy) (3.0.4)\nRequirement already satisfied: certifi>=2017.4.17 in c:\\users\\tiger\\miniconda3\\lib\\site-packages (from requests<3.0.0,>=2.13.0->spacy>=2.2.1->scispacy) (2019.11.28)\nRequirement already satisfied: jmespath<1.0.0,>=0.7.1 in c:\\users\\tiger\\miniconda3\\lib\\site-packages (from botocore==1.15.31->awscli->scispacy) (0.9.5)\nRequirement already satisfied: python-dateutil<3.0.0,>=2.1 in c:\\users\\tiger\\miniconda3\\lib\\site-packages (from botocore==1.15.31->awscli->scispacy) (2.8.1)\nRequirement already satisfied: pyasn1>=0.1.3 in c:\\users\\tiger\\miniconda3\\lib\\site-packages (from rsa<=3.5.0,>=3.1.2->awscli->scispacy) (0.4.8)\nRequirement already satisfied: zipp>=0.5 in c:\\users\\tiger\\miniconda3\\lib\\site-packages (from importlib-metadata>=0.20; python_version < \"3.8\"->catalogue<1.1.0,>=0.0.7->spacy>=2.2.1->scispacy) (3.1.0)\nRequirement already satisfied: six>=1.5 in c:\\users\\tiger\\miniconda3\\lib\\site-packages (from python-dateutil<3.0.0,>=2.1->botocore==1.15.31->awscli->scispacy) (1.12.0)\nRequirement already satisfied: spacy_langdetect in c:\\users\\tiger\\miniconda3\\lib\\site-packages (0.1.2)\nRequirement already satisfied: langdetect==1.0.7 in c:\\users\\tiger\\miniconda3\\lib\\site-packages (from spacy_langdetect) (1.0.7)\nRequirement already satisfied: pytest in c:\\users\\tiger\\miniconda3\\lib\\site-packages (from spacy_langdetect) (5.4.1)\nRequirement already satisfied: six in c:\\users\\tiger\\miniconda3\\lib\\site-packages (from langdetect==1.0.7->spacy_langdetect) (1.12.0)\nRequirement already satisfied: packaging in c:\\users\\tiger\\miniconda3\\lib\\site-packages (from pytest->spacy_langdetect) (20.3)\nRequirement already satisfied: colorama; sys_platform == \"win32\" in c:\\users\\tiger\\miniconda3\\lib\\site-packages (from pytest->spacy_langdetect) (0.4.3)\nRequirement already satisfied: atomicwrites>=1.0; sys_platform == \"win32\" in c:\\users\\tiger\\miniconda3\\lib\\site-packages (from pytest->spacy_langdetect) (1.3.0)\nRequirement already satisfied: more-itertools>=4.0.0 in c:\\users\\tiger\\miniconda3\\lib\\site-packages (from pytest->spacy_langdetect) (8.2.0)\nRequirement already satisfied: importlib-metadata>=0.12; python_version < \"3.8\" in c:\\users\\tiger\\miniconda3\\lib\\site-packages (from pytest->spacy_langdetect) (1.5.0)\nRequirement already satisfied: pluggy<1.0,>=0.12 in c:\\users\\tiger\\miniconda3\\lib\\site-packages (from pytest->spacy_langdetect) (0.13.1)\nRequirement already satisfied: wcwidth in c:\\users\\tiger\\miniconda3\\lib\\site-packages (from pytest->spacy_langdetect) (0.1.9)\nRequirement already satisfied: attrs>=17.4.0 in c:\\users\\tiger\\miniconda3\\lib\\site-packages (from pytest->spacy_langdetect) (19.3.0)\nRequirement already satisfied: py>=1.5.0 in c:\\users\\tiger\\miniconda3\\lib\\site-packages (from pytest->spacy_langdetect) (1.8.1)\nRequirement already satisfied: pyparsing>=2.0.2 in c:\\users\\tiger\\miniconda3\\lib\\site-packages (from packaging->pytest->spacy_langdetect) (2.4.6)\nRequirement already satisfied: zipp>=0.5 in c:\\users\\tiger\\miniconda3\\lib\\site-packages (from importlib-metadata>=0.12; python_version < \"3.8\"->pytest->spacy_langdetect) (3.1.0)\n"
    }
   ],
   "source": [
    "!pip install spacy\n",
    "!pip install scispacy\n",
    "!pip install spacy_langdetect"
   ]
  },
  {
   "cell_type": "code",
   "execution_count": 2,
   "metadata": {},
   "outputs": [
    {
     "output_type": "stream",
     "name": "stdout",
     "text": "Requirement already satisfied: en_core_web_lg==2.2.5 from https://github.com/explosion/spacy-models/releases/download/en_core_web_lg-2.2.5/en_core_web_lg-2.2.5.tar.gz#egg=en_core_web_lg==2.2.5 in c:\\users\\tiger\\miniconda3\\lib\\site-packages (2.2.5)\nRequirement already satisfied: spacy>=2.2.2 in c:\\users\\tiger\\miniconda3\\lib\\site-packages (from en_core_web_lg==2.2.5) (2.2.4)\nRequirement already satisfied: srsly<1.1.0,>=1.0.2 in c:\\users\\tiger\\miniconda3\\lib\\site-packages (from spacy>=2.2.2->en_core_web_lg==2.2.5) (1.0.2)\nRequirement already satisfied: wasabi<1.1.0,>=0.4.0 in c:\\users\\tiger\\miniconda3\\lib\\site-packages (from spacy>=2.2.2->en_core_web_lg==2.2.5) (0.6.0)\nRequirement already satisfied: blis<0.5.0,>=0.4.0 in c:\\users\\tiger\\miniconda3\\lib\\site-packages (from spacy>=2.2.2->en_core_web_lg==2.2.5) (0.4.1)\nRequirement already satisfied: tqdm<5.0.0,>=4.38.0 in c:\\users\\tiger\\miniconda3\\lib\\site-packages (from spacy>=2.2.2->en_core_web_lg==2.2.5) (4.44.0)\nRequirement already satisfied: thinc==7.4.0 in c:\\users\\tiger\\miniconda3\\lib\\site-packages (from spacy>=2.2.2->en_core_web_lg==2.2.5) (7.4.0)\nRequirement already satisfied: requests<3.0.0,>=2.13.0 in c:\\users\\tiger\\miniconda3\\lib\\site-packages (from spacy>=2.2.2->en_core_web_lg==2.2.5) (2.22.0)\nRequirement already satisfied: setuptools in c:\\users\\tiger\\miniconda3\\lib\\site-packages (from spacy>=2.2.2->en_core_web_lg==2.2.5) (41.4.0)\nRequirement already satisfied: plac<1.2.0,>=0.9.6 in c:\\users\\tiger\\miniconda3\\lib\\site-packages (from spacy>=2.2.2->en_core_web_lg==2.2.5) (1.1.3)\nRequirement already satisfied: catalogue<1.1.0,>=0.0.7 in c:\\users\\tiger\\miniconda3\\lib\\site-packages (from spacy>=2.2.2->en_core_web_lg==2.2.5) (1.0.0)\nRequirement already satisfied: murmurhash<1.1.0,>=0.28.0 in c:\\users\\tiger\\miniconda3\\lib\\site-packages (from spacy>=2.2.2->en_core_web_lg==2.2.5) (1.0.2)\nRequirement already satisfied: preshed<3.1.0,>=3.0.2 in c:\\users\\tiger\\miniconda3\\lib\\site-packages (from spacy>=2.2.2->en_core_web_lg==2.2.5) (3.0.2)\nRequirement already satisfied: numpy>=1.15.0 in c:\\users\\tiger\\miniconda3\\lib\\site-packages (from spacy>=2.2.2->en_core_web_lg==2.2.5) (1.18.2)\nRequirement already satisfied: cymem<2.1.0,>=2.0.2 in c:\\users\\tiger\\miniconda3\\lib\\site-packages (from spacy>=2.2.2->en_core_web_lg==2.2.5) (2.0.3)\nRequirement already satisfied: certifi>=2017.4.17 in c:\\users\\tiger\\miniconda3\\lib\\site-packages (from requests<3.0.0,>=2.13.0->spacy>=2.2.2->en_core_web_lg==2.2.5) (2019.11.28)\nRequirement already satisfied: urllib3!=1.25.0,!=1.25.1,<1.26,>=1.21.1 in c:\\users\\tiger\\miniconda3\\lib\\site-packages (from requests<3.0.0,>=2.13.0->spacy>=2.2.2->en_core_web_lg==2.2.5) (1.24.2)\nRequirement already satisfied: chardet<3.1.0,>=3.0.2 in c:\\users\\tiger\\miniconda3\\lib\\site-packages (from requests<3.0.0,>=2.13.0->spacy>=2.2.2->en_core_web_lg==2.2.5) (3.0.4)\nRequirement already satisfied: idna<2.9,>=2.5 in c:\\users\\tiger\\miniconda3\\lib\\site-packages (from requests<3.0.0,>=2.13.0->spacy>=2.2.2->en_core_web_lg==2.2.5) (2.8)\nRequirement already satisfied: importlib-metadata>=0.20; python_version < \"3.8\" in c:\\users\\tiger\\miniconda3\\lib\\site-packages (from catalogue<1.1.0,>=0.0.7->spacy>=2.2.2->en_core_web_lg==2.2.5) (1.5.0)\nRequirement already satisfied: zipp>=0.5 in c:\\users\\tiger\\miniconda3\\lib\\site-packages (from importlib-metadata>=0.20; python_version < \"3.8\"->catalogue<1.1.0,>=0.0.7->spacy>=2.2.2->en_core_web_lg==2.2.5) (3.1.0)\n✔ Download and installation successful\nYou can now load the model via spacy.load('en_core_web_lg')\n"
    }
   ],
   "source": [
    "!python -m spacy download en_core_web_lg"
   ]
  },
  {
   "cell_type": "code",
   "execution_count": 5,
   "metadata": {},
   "outputs": [],
   "source": [
    "import spacy \n",
    "import scispacy\n",
    "import pandas as pd \n",
    "import os\n",
    "import numpy as np\n",
    "#import scispacy\n",
    "import json\n",
    "from tqdm.notebook import tqdm\n",
    "from scipy.spatial import distance\n",
    "import ipywidgets as widgets\n",
    "from scispacy.abbreviation import AbbreviationDetector\n",
    "from spacy_langdetect import LanguageDetector\n",
    "# UMLS linking will find concepts in the text, and link them to UMLS. \n",
    "from scispacy.umls_linking import UmlsEntityLinker\n",
    "import time"
   ]
  },
  {
   "cell_type": "markdown",
   "metadata": {},
   "source": [
    "# Time for NLP!\n",
    "\n",
    "Let's load our language model. Based on the type of text we'll be dealing with, we want something that's been pretrained on biomedical texts, as the vocabulary and statistical distribution of words is much different from, say, the news or Wikipedia articles. Luckily, there's already pre-trained models for spacy, so let's load the largest one we can! "
   ]
  },
  {
   "cell_type": "code",
   "execution_count": 7,
   "metadata": {},
   "outputs": [
    {
     "output_type": "stream",
     "name": "stdout",
     "text": "https://s3-us-west-2.amazonaws.com/ai2-s2-scispacy/data/linking_model/tfidf_vectors_sparse.npz not found in cache, downloading to C:\\Users\\Tiger\\AppData\\Local\\Temp\\tmpoho4tae4\nFinished download, copying C:\\Users\\Tiger\\AppData\\Local\\Temp\\tmpoho4tae4 to cache at C:\\Users\\Tiger\\.scispacy\\datasets\\ea855fd121a193f03190a91417c209d4cd97e63d3ce4b456c248ef7c13a4ca77.03518aabd12de2103a27a50302f37c3d87b0f313a8be08b5ec306c9c4334b9b1.tfidf_vectors_sparse.npz\nhttps://s3-us-west-2.amazonaws.com/ai2-s2-scispacy/data/linking_model/nmslib_index.bin not found in cache, downloading to C:\\Users\\Tiger\\AppData\\Local\\Temp\\tmpjsgzboja\nFinished download, copying C:\\Users\\Tiger\\AppData\\Local\\Temp\\tmpjsgzboja to cache at C:\\Users\\Tiger\\.scispacy\\datasets\\5f620d1bd549a98c005ed601a73806ea2cd1a86ae6c54bbc62bcb3b452ca2630.27a7ac6807fde6628311ff7d70b86fefc640d0eb70637b544c591722a2c16c2a.nmslib_index.bin\nhttps://s3-us-west-2.amazonaws.com/ai2-s2-scispacy/data/linking_model/tfidf_vectorizer.joblib not found in cache, downloading to C:\\Users\\Tiger\\AppData\\Local\\Temp\\tmplkk484gc\nFinished download, copying C:\\Users\\Tiger\\AppData\\Local\\Temp\\tmplkk484gc to cache at C:\\Users\\Tiger\\.scispacy\\datasets\\ffb7a77cdcb3c9233c1e4009c69f38efc13c3619238c508459b5f03fd5f14e4b.9e501319abafbe723d25f1737402d504af6f198fb43b96c85692fa0f9ddc5516.tfidf_vectorizer.joblib\nhttps://s3-us-west-2.amazonaws.com/ai2-s2-scispacy/data/linking_model/concept_aliases.json not found in cache, downloading to C:\\Users\\Tiger\\AppData\\Local\\Temp\\tmph1y71mz_\nFinished download, copying C:\\Users\\Tiger\\AppData\\Local\\Temp\\tmph1y71mz_ to cache at C:\\Users\\Tiger\\.scispacy\\datasets\\0f064d20aefab965d5772b2100f8436b3541e7d5313c76cfe5fe070902f149fe.31df9cdb04729860a81bd6c980224ed2bff582586c398d0c9b96ae4e257b9da2.concept_aliases.json\nhttps://s3-us-west-2.amazonaws.com/ai2-s2-scispacy/data/umls_2017_aa_cat0129.json not found in cache, downloading to C:\\Users\\Tiger\\AppData\\Local\\Temp\\tmpecxtuptk\nFinished download, copying C:\\Users\\Tiger\\AppData\\Local\\Temp\\tmpecxtuptk to cache at C:\\Users\\Tiger\\.scispacy\\datasets\\13b30cd31cd37c1b52f3df6ea023061172d16e9941660e677fdbb29489af7410.4ad71d86ce780e00cab131c7e3b81acfd2f11dd80ccd61125c8bcde506f2ab8a.umls_2017_aa_cat0129.json\nhttps://s3-us-west-2.amazonaws.com/ai2-s2-scispacy/data/umls_semantic_type_tree.tsv not found in cache, downloading to C:\\Users\\Tiger\\AppData\\Local\\Temp\\tmpig3r7n20\nFinished download, copying C:\\Users\\Tiger\\AppData\\Local\\Temp\\tmpig3r7n20 to cache at C:\\Users\\Tiger\\.scispacy\\datasets\\21a1012c532c3a431d60895c509f5b4d45b0f8966c4178b892190a302b21836f.330707f4efe774134872b9f77f0e3208c1d30f50800b3b39a6b8ec21d9adf1b7.umls_semantic_type_tree.tsv\n"
    }
   ],
   "source": [
    "#nlp = spacy.load(\"en_core_sci_lg\")\n",
    "nlp = spacy.load(\"en_core_web_lg\", disable=[\"tagger\"])\n",
    "# If you're on kaggle, load the model with the following, if you run into an error:\n",
    "#nlp = spacy.load(\"/opt/conda/lib/python3.6/site-packages/en_core_sci_lg/en_core_sci_lg-0.2.3/\", disable=[\"tagger\"])\n",
    "\n",
    "# We also need to detect language, or else we'll be parsing non-english text \n",
    "# as if it were English. \n",
    "nlp.add_pipe(LanguageDetector(), name='language_detector', last=True)\n",
    "\n",
    "# Add the abbreviation pipe to the spacy pipeline. Only need to run this once.\n",
    "abbreviation_pipe = AbbreviationDetector(nlp)\n",
    "nlp.add_pipe(abbreviation_pipe)\n",
    "\n",
    "# Our linker will look up named entities/concepts in the UMLS graph and normalize\n",
    "# the data for us. \n",
    "linker = UmlsEntityLinker(resolve_abbreviations=True)\n",
    "nlp.add_pipe(linker)"
   ]
  },
  {
   "cell_type": "markdown",
   "metadata": {},
   "source": [
    "### Adding a vector for COVID-19\n",
    "\n",
    "One last thing. COVID-19 is a new word, and doesn't exist in the vocabulary for our spaCy model. We'll need to add it manually; let's try setting it to equal the average vector of words that should represent what COVID-19 refers to, and see if that works. I'm not an expert so I just took definitions from Wikipedia and the etiology section of https://onlinelibrary.wiley.com/doi/full/10.1002/jmv.25740. There's a much better way of doing this (fine-tuning the model on our corpus) but I have no idea how to do this in spaCy..."
   ]
  },
  {
   "cell_type": "code",
   "execution_count": 8,
   "metadata": {},
   "outputs": [],
   "source": [
    "from spacy.vocab import Vocab\n",
    "new_vector = nlp(\n",
    "               \"\"\"Single‐stranded RNA virus, belongs to subgenus \n",
    "                   Sarbecovirus of the genus Betacoronavirus.5 Particles \n",
    "                   contain spike and envelope, virions are spherical, oval, or pleomorphic \n",
    "                   with diameters of approximately 60 to 140 nm.\n",
    "                   Also known as severe acute respiratory syndrome coronavirus 2, \n",
    "                   previously known by the provisional name 2019 novel coronavirus \n",
    "                   (2019-nCoV), is a positive-sense single-stranded RNA virus. It is \n",
    "                   contagious in humans and is the cause of the ongoing pandemic of \n",
    "                   coronavirus disease 2019 that has been designated a \n",
    "                   Public Health Emergency of International Concern\"\"\").vector\n",
    "\n",
    "vector_data = {\"COVID-19\": new_vector,\n",
    "               \"2019-nCoV\": new_vector,\n",
    "               \"SARS-CoV-2\": new_vector}\n",
    "\n",
    "vocab = Vocab()\n",
    "for word, vector in vector_data.items():\n",
    "    nlp.vocab.set_vector(word, vector)"
   ]
  },
  {
   "cell_type": "markdown",
   "metadata": {},
   "source": [
    "### Sanity Check\n",
    "Alright, let's check if this work. "
   ]
  },
  {
   "cell_type": "code",
   "execution_count": 9,
   "metadata": {},
   "outputs": [
    {
     "output_type": "stream",
     "name": "stdout",
     "text": "0.43866796294309707 \n 0.1493842797797978 \n 0.8265655180515853\n"
    }
   ],
   "source": [
    "print(\n",
    "    nlp(\"COVID-19\").similarity(nlp(\"novel coronavirus\")), \"\\n\",\n",
    "    nlp(\"SARS-CoV-2\").similarity(nlp(\"severe acute respiratory syndrome\")), \"\\n\",\n",
    "    nlp(\"COVID-19\").similarity(nlp(\"sickness caused by a new virus\")))"
   ]
  },
  {
   "cell_type": "markdown",
   "metadata": {},
   "source": [
    "I guess we'll find out if that's good enough for our purposes! Let's save it so other people can use it!"
   ]
  },
  {
   "cell_type": "code",
   "execution_count": 69,
   "metadata": {},
   "outputs": [],
   "source": [
    "#nlp.to_disk('/home/acorn/Documents/covid-19-en_lg')"
   ]
  },
  {
   "cell_type": "markdown",
   "metadata": {},
   "source": [
    "Some of the texts is particularly long, so we need to increase the max_length attribute of nlp to more then 1.25mil. The alternative would be cutting the length of the article or dropping it entirely (I believe there's some sort of anomaly with this particular article), but we'll keep it for now. "
   ]
  },
  {
   "cell_type": "code",
   "execution_count": 10,
   "metadata": {},
   "outputs": [],
   "source": [
    "nlp.max_length=2000000"
   ]
  },
  {
   "cell_type": "markdown",
   "metadata": {},
   "source": [
    "Next, we want to replace all abbreviations with their long forms. This is important for semantic indexing because the model has probably seen words like \"Multiple sclerosis\" but may have seen the abbreviation \"MS\" in different contexts. That means their vector representations are different, and we don't want that! \n",
    "\n",
    "So here we'll add the abbreviation expansion module to our scispaCy pipeline. "
   ]
  },
  {
   "cell_type": "code",
   "execution_count": 11,
   "metadata": {},
   "outputs": [
    {
     "output_type": "stream",
     "name": "stdout",
     "text": "Abbreviation \t Definition\nADD \t (28, 31) Attention deficit disorcer\nADD \t (80, 83) Attention deficit disorcer\n"
    }
   ],
   "source": [
    "doc = nlp(\"Attention deficit disorcer (ADD) is treated using various medications. However, ADD is not...\")\n",
    "\n",
    "print(\"Abbreviation\", \"\\t\", \"Definition\")\n",
    "for abrv in doc._.abbreviations[0:10]:\n",
    "\tprint(f\"{abrv} \\t ({abrv.start_char}, {abrv.end_char}) {abrv._.long_form}\")"
   ]
  },
  {
   "cell_type": "markdown",
   "metadata": {},
   "source": [
    "Notice we get some weird results towards the end if you print **all** of them (lots of a's being converted to at's, but we can ignore that for now. If we need to remove stop words later, we can. "
   ]
  },
  {
   "cell_type": "markdown",
   "metadata": {},
   "source": [
    "### Making the Vector DataFrames\n",
    "Appending to a dataframe increases time to copy data linearly because df.append copies the entire object. The following will take an article's text, break it into sentences, and vectorize each sentence (using scispacy's pre-trained word2vec model). Finally, the list of dicts is loaded as a DataFrame and saved.\n",
    "\n",
    "So here's the real meat of our pre-processing. This is really heavy because it processes line-by-line and then generates a lot of metadata (entities, vectors). We can break it into pieces later depending on the task we want to use this information for, but querying lines is a lot more useful that querying whole documents when you want to know about something specific like seroconversion, spike proteins, or something else. Once you identify lines of interest, you can generate more data about the actual document, since each line will be indexed with document, start and end character, entities, vectors, and language. \n",
    "\n",
    "#### Lemmatized Text\n",
    "\n",
    "Just in case we need it, let's do some text cleaning and include that in a different column. Lemmatization normalizes data so that when you're creating word clouds or simplified TF-IDF, the number of dimesions you're dealing with are significantly reduced. It's also nice to remove words that don't contribute much meaning, but do note that removing stop-words will make neural models less accurate depending on the task you're using them for.\n"
   ]
  },
  {
   "cell_type": "code",
   "execution_count": 12,
   "metadata": {},
   "outputs": [],
   "source": [
    "def df_cleaner(df):\n",
    "    df.fillna(\"Empty\", inplace=True) # If we leave floats (NaN), spaCy will break.\n",
    "    for i in df.index:\n",
    "        for j in range(len(df.columns)):\n",
    "            if \" q q\" in df.iloc[i,j]:\n",
    "                df.iloc[i,j] = df.iloc[i,j].replace(\" q q\",\"\") # Some articles are filled with \" q q q q q q q q q\"\n",
    "\n",
    "# Convenience method for lemmatizing text. This will remove punctuation that isn't part of\n",
    "# a word. \n",
    "def lemmatize_my_text(doc):\n",
    "    lemma_column = []\n",
    "    for i in df.index:\n",
    "        if df.iloc[i][\"language\"] == \"en\":\n",
    "            doc = nlp(str(df.iloc[i][column]), disable=[\"ner\",\"linker\", \"language_detector\"])\n",
    "            lemmatized_doc = \" \".join([token.lemma_ for token in doc])\n",
    "            lemma_column.append(lemmatized_doc)\n",
    "        else: \n",
    "            lemma_column.append(\"Non-English\")\n",
    "    return lemma_column\n",
    "\n",
    "#Unnabreviate text. This should be done BEFORE lemmatiztion and vectorization. \n",
    "def unnabreviate_my_text(doc):\n",
    "    if len(doc._.abbreviations) > 0 and doc._.language[\"language\"] == \"en\":\n",
    "        doc._.abbreviations.sort()\n",
    "        join_list = []\n",
    "        start = 0\n",
    "        for abbrev in doc._.abbreviations:\n",
    "            join_list.append(str(doc.text[start:abbrev.start_char]))\n",
    "            if len(abbrev._.long_form) > 5: #Increase length so \"a\" and \"an\" don't get un-abbreviated\n",
    "                join_list.append(str(abbrev._.long_form))\n",
    "            else:\n",
    "                join_list.append(str(doc.text[abbrev.start_char:abbrev.end_char]))\n",
    "            start = abbrev.end_char\n",
    "        # Reassign fixed body text to article in df.\n",
    "        new_text = \"\".join(join_list)\n",
    "        # We have new text. Re-nlp the doc for futher processing!\n",
    "        doc = nlp(new_text)\n",
    "        return(doc)\n",
    "    \n",
    "def pipeline(df, column, dataType, filename):\n",
    "    create = pd.DataFrame(columns={\"_id\",\"language\",\"section\",\"sentence\",\"startChar\",\"endChar\",\"entities\",\"lemma\",\"w2vVector\"})\n",
    "    create.to_csv(filename + \"_text_processed\" + \".csv\", index=False)\n",
    "    \n",
    "    docs = nlp.pipe(df[column].astype(str))\n",
    "    i = -1\n",
    "    for doc in tqdm(docs):\n",
    "        languages = []\n",
    "        start_chars = []\n",
    "        end_chars = []\n",
    "        entities = []\n",
    "        sentences = []\n",
    "        vectors = []\n",
    "        _ids = []\n",
    "        columns = []\n",
    "        lemmas = []\n",
    "        i = i + 1\n",
    "        \n",
    "        if doc._.language[\"language\"] == \"en\" and len(doc.text) > 5:\n",
    "            for sent in doc.sents:\n",
    "                languages.append(doc._.language[\"language\"])\n",
    "                sentences.append(sent.text)\n",
    "                vectors.append(sent.vector)\n",
    "                start_chars.append(sent.start_char)\n",
    "                end_chars.append(sent.end_char)\n",
    "                doc_ents = []\n",
    "                for ent in sent.ents: \n",
    "                    if len(ent._.umls_ents) > 0:\n",
    "                        poss = linker.umls.cui_to_entity[ent._.umls_ents[0][0]].canonical_name\n",
    "                        doc_ents.append(poss)\n",
    "                entities.append(doc_ents)\n",
    "                _ids.append(df.iloc[i,0])\n",
    "                if dataType == \"tables\":\n",
    "                    columns.append(df.iloc[i][\"figure\"])\n",
    "                elif dataType == \"text\":\n",
    "                    columns.append(column)\n",
    "                lemmatized_doc = \" \".join([token.lemma_ for token in doc])\n",
    "                lemmas.append(lemmatized_doc)\n",
    "        else: \n",
    "            start_chars.append(0)\n",
    "            end_chars.append(len(doc.text))\n",
    "            entities.append(\"Non-English\")\n",
    "            sentences.append(doc.text)\n",
    "            vectors.append(np.zeros(200))\n",
    "            _ids.append(df.iloc[i,0])\n",
    "            languages.append(doc._.language[\"language\"])\n",
    "            if dataType == \"tables\":\n",
    "                columns.append(df.iloc[i][\"figure\"])\n",
    "            elif dataType == \"text\":\n",
    "                columns.append(column)\n",
    "            lemmas.append(\"Non-English\")\n",
    "            \n",
    "        rows = pd.DataFrame(data={\"_id\": _ids, \"language\": languages, \"section\": columns, \"sentence\": sentences, \n",
    "            \"startChar\": start_chars, \"endChar\": end_chars, \"entities\": entities, \"lemma\": lemmas, \"w2vVector\":vectors})\n",
    "        rows.to_csv(filename, mode='a', header=False, index=False)\n",
    "        del rows"
   ]
  },
  {
   "cell_type": "code",
   "execution_count": 16,
   "metadata": {},
   "outputs": [
    {
     "output_type": "display_data",
     "data": {
      "text/plain": "HBox(children=(FloatProgress(value=1.0, bar_style='info', max=1.0), HTML(value='')))",
      "application/vnd.jupyter.widget-view+json": {
       "version_major": 2,
       "version_minor": 0,
       "model_id": "a63084cd08c14f568b87489250272810"
      }
     },
     "metadata": {}
    },
    {
     "output_type": "stream",
     "name": "stdout",
     "text": "\n"
    }
   ],
   "source": [
    "files = [f for f in os.listdir(\"./unnabreviated_parts/\") if f.startswith(\"unna\") and not f.endswith(\"csv\")]\n",
    "for f in tqdm(files):\n",
    "    f = \"./unnabreviated_parts/\" + f\n",
    "    df = pd.read_csv(f)\n",
    "    pipeline(df=df, column=\"text\", dataType=\"text\", filename=\"tables_unnabrev_lemma\")\n",
    "    os.remove(f)"
   ]
  },
  {
   "cell_type": "code",
   "execution_count": 17,
   "metadata": {},
   "outputs": [
    {
     "output_type": "execute_result",
     "data": {
      "text/plain": "[]"
     },
     "metadata": {},
     "execution_count": 17
    }
   ],
   "source": [
    "files"
   ]
  },
  {
   "cell_type": "code",
   "execution_count": 15,
   "metadata": {},
   "outputs": [
    {
     "output_type": "error",
     "ename": "ValueError",
     "evalue": "No objects to concatenate",
     "traceback": [
      "\u001b[1;31m---------------------------------------------------------------------------\u001b[0m",
      "\u001b[1;31mValueError\u001b[0m                                Traceback (most recent call last)",
      "\u001b[1;32m<ipython-input-15-6f479607d483>\u001b[0m in \u001b[0;36m<module>\u001b[1;34m\u001b[0m\n\u001b[0;32m      1\u001b[0m \u001b[0mdf_list\u001b[0m \u001b[1;33m=\u001b[0m \u001b[1;33m[\u001b[0m\u001b[1;33m]\u001b[0m\u001b[1;33m\u001b[0m\u001b[1;33m\u001b[0m\u001b[0m\n\u001b[1;32m----> 2\u001b[1;33m \u001b[0mdf\u001b[0m \u001b[1;33m=\u001b[0m \u001b[0mpd\u001b[0m\u001b[1;33m.\u001b[0m\u001b[0mconcat\u001b[0m\u001b[1;33m(\u001b[0m\u001b[1;33m[\u001b[0m\u001b[0mi\u001b[0m \u001b[1;32mfor\u001b[0m \u001b[0mi\u001b[0m \u001b[1;32min\u001b[0m \u001b[1;33m[\u001b[0m\u001b[0mpd\u001b[0m\u001b[1;33m.\u001b[0m\u001b[0mread_csv\u001b[0m\u001b[1;33m(\u001b[0m\u001b[0mf\u001b[0m\u001b[1;33m)\u001b[0m \u001b[1;32mfor\u001b[0m \u001b[0mf\u001b[0m \u001b[1;32min\u001b[0m \u001b[0mfiles\u001b[0m\u001b[1;33m]\u001b[0m\u001b[1;33m]\u001b[0m\u001b[1;33m)\u001b[0m\u001b[1;33m\u001b[0m\u001b[1;33m\u001b[0m\u001b[0m\n\u001b[0m\u001b[0;32m      3\u001b[0m \u001b[0mtimestamp\u001b[0m \u001b[1;33m=\u001b[0m \u001b[0mtime\u001b[0m\u001b[1;33m.\u001b[0m\u001b[0mstrftime\u001b[0m\u001b[1;33m(\u001b[0m\u001b[1;34m\"%Y%m%d\"\u001b[0m\u001b[1;33m)\u001b[0m\u001b[1;33m\u001b[0m\u001b[1;33m\u001b[0m\u001b[0m\n\u001b[0;32m      4\u001b[0m \u001b[0mdf\u001b[0m\u001b[1;33m.\u001b[0m\u001b[0mto_csv\u001b[0m\u001b[1;33m(\u001b[0m\u001b[1;34mf\"covid_TitleAbstract_processed-{timestamp}.csv\"\u001b[0m\u001b[1;33m,\u001b[0m \u001b[0mindex\u001b[0m\u001b[1;33m=\u001b[0m\u001b[1;32mFalse\u001b[0m\u001b[1;33m)\u001b[0m\u001b[1;33m\u001b[0m\u001b[1;33m\u001b[0m\u001b[0m\n",
      "\u001b[1;32m~\\Miniconda3\\lib\\site-packages\\pandas\\core\\reshape\\concat.py\u001b[0m in \u001b[0;36mconcat\u001b[1;34m(objs, axis, join, ignore_index, keys, levels, names, verify_integrity, sort, copy)\u001b[0m\n\u001b[0;32m    279\u001b[0m         \u001b[0mverify_integrity\u001b[0m\u001b[1;33m=\u001b[0m\u001b[0mverify_integrity\u001b[0m\u001b[1;33m,\u001b[0m\u001b[1;33m\u001b[0m\u001b[1;33m\u001b[0m\u001b[0m\n\u001b[0;32m    280\u001b[0m         \u001b[0mcopy\u001b[0m\u001b[1;33m=\u001b[0m\u001b[0mcopy\u001b[0m\u001b[1;33m,\u001b[0m\u001b[1;33m\u001b[0m\u001b[1;33m\u001b[0m\u001b[0m\n\u001b[1;32m--> 281\u001b[1;33m         \u001b[0msort\u001b[0m\u001b[1;33m=\u001b[0m\u001b[0msort\u001b[0m\u001b[1;33m,\u001b[0m\u001b[1;33m\u001b[0m\u001b[1;33m\u001b[0m\u001b[0m\n\u001b[0m\u001b[0;32m    282\u001b[0m     )\n\u001b[0;32m    283\u001b[0m \u001b[1;33m\u001b[0m\u001b[0m\n",
      "\u001b[1;32m~\\Miniconda3\\lib\\site-packages\\pandas\\core\\reshape\\concat.py\u001b[0m in \u001b[0;36m__init__\u001b[1;34m(self, objs, axis, join, keys, levels, names, ignore_index, verify_integrity, copy, sort)\u001b[0m\n\u001b[0;32m    327\u001b[0m \u001b[1;33m\u001b[0m\u001b[0m\n\u001b[0;32m    328\u001b[0m         \u001b[1;32mif\u001b[0m \u001b[0mlen\u001b[0m\u001b[1;33m(\u001b[0m\u001b[0mobjs\u001b[0m\u001b[1;33m)\u001b[0m \u001b[1;33m==\u001b[0m \u001b[1;36m0\u001b[0m\u001b[1;33m:\u001b[0m\u001b[1;33m\u001b[0m\u001b[1;33m\u001b[0m\u001b[0m\n\u001b[1;32m--> 329\u001b[1;33m             \u001b[1;32mraise\u001b[0m \u001b[0mValueError\u001b[0m\u001b[1;33m(\u001b[0m\u001b[1;34m\"No objects to concatenate\"\u001b[0m\u001b[1;33m)\u001b[0m\u001b[1;33m\u001b[0m\u001b[1;33m\u001b[0m\u001b[0m\n\u001b[0m\u001b[0;32m    330\u001b[0m \u001b[1;33m\u001b[0m\u001b[0m\n\u001b[0;32m    331\u001b[0m         \u001b[1;32mif\u001b[0m \u001b[0mkeys\u001b[0m \u001b[1;32mis\u001b[0m \u001b[1;32mNone\u001b[0m\u001b[1;33m:\u001b[0m\u001b[1;33m\u001b[0m\u001b[1;33m\u001b[0m\u001b[0m\n",
      "\u001b[1;31mValueError\u001b[0m: No objects to concatenate"
     ]
    }
   ],
   "source": [
    "df_list = []\n",
    "df = pd.concat([i for i in [pd.read_csv(f) for f in files]])\n",
    "timestamp = time.strftime(\"%Y%m%d\")\n",
    "df.to_csv(f\"covid_TitleAbstract_processed-{timestamp}.csv\", index=False)"
   ]
  }
 ],
 "metadata": {
  "kernelspec": {
   "display_name": "Python 3.7.4 64-bit ('base': conda)",
   "language": "python",
   "name": "python37464bitbaseconda382c5024d29d46df9a03833e86043d73"
  },
  "language_info": {
   "codemirror_mode": {
    "name": "ipython",
    "version": 3
   },
   "file_extension": ".py",
   "mimetype": "text/x-python",
   "name": "python",
   "nbconvert_exporter": "python",
   "pygments_lexer": "ipython3",
   "version": "3.7.4-final"
  }
 },
 "nbformat": 4,
 "nbformat_minor": 4
}