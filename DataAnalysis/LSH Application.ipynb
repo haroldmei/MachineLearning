{
 "cells": [
  {
   "cell_type": "markdown",
   "metadata": {},
   "source": [
    "## LSH application: Find approximate near neighbors\n",
    "\n",
    "Assume a dataset $\\mathcal(A)$ of n points in a metric space with distance metric d(.,.); let c be a constant greater than 1.\n",
    "\n",
    "### 1. (c,$\\lambda$)-Approximate Near Neighbor (ANN) problem:  \n",
    "Given a query point z, assuming that there is a point x in the dataset s.t. $d(x,z) \\le \\lambda$, return a point x' from the dataset with $d(x',z) \\le c\\lambda$ (this point is called (c, $\\lambda$)-ANN). The parameter c therefore represents the maximum approximation factor allowed in the problem.   \n",
    "\n",
    "### 2. ($d_1,d_2,p_1,p_2$)-sensitive function\n",
    "A family $\\mathcal{H}$ of hash functions is said to be ($d_1,d_2,p_1,p_2$)-sensitive if for any x and y in S: \n",
    "1. If $d(x,y)\\le d_1$, then the probability over all $h\\in \\mathcal{H}$, that h(x)=h(y) is at least $p_1$.\n",
    "2. If $d(x,y)\\ge d_2$, then the probability over all $h\\in \\mathcal{H}$, that h(x)=h(y) is at most $p_2$.\n"
   ]
  },
  {
   "cell_type": "markdown",
   "metadata": {},
   "source": [
    "Consider an LSH family $\\mathcal{H}$ of hash functions that is ($\\lambda, c\\lambda, p_1,p_2$)-sensitive for the distance measure d(.,.). Let $\\mathcal{G}=\\mathcal{H}^k= \\{g=(h_1,...,h_k)|h_i\\in \\mathcal{H}, 1\\le i \\le k \\}$, where $k=\\log_{1/p_2}(n)$.  \n",
    "\n",
    "Consider the following procedure.\n",
    "1. Select $L=n^\\rho$ random members $g_1,...,g_L$ from $\\mathcal{G}$;  where $\\rho=\\frac{\\log(1/p_1)}{\\log(1/p_2)}$\n",
    "2. Hash all the data points as well as the query point using all $g_i$, $1 \\le i \\le L$.\n",
    "3. Retrieve at most 3L data points (chosen uniformly randomly) from the set of L buckets to which the query point hashes. (If there are fewer than 3L data points hashing to the same buckets as the query point, just take all of them.)\n",
    "4. Among the points selected in phase 3, report the one that is the closest to the query point as a (c,$\\lambda$)-ANN.\n",
    "\n",
    "The procedure above leads to a correct answer with constant probability."
   ]
  },
  {
   "cell_type": "code",
   "execution_count": null,
   "metadata": {},
   "outputs": [],
   "source": []
  }
 ],
 "metadata": {
  "kernelspec": {
   "display_name": "Python 3",
   "language": "python",
   "name": "python3"
  },
  "language_info": {
   "codemirror_mode": {
    "name": "ipython",
    "version": 3
   },
   "file_extension": ".py",
   "mimetype": "text/x-python",
   "name": "python",
   "nbconvert_exporter": "python",
   "pygments_lexer": "ipython3",
   "version": "3.6.7"
  }
 },
 "nbformat": 4,
 "nbformat_minor": 2
}
