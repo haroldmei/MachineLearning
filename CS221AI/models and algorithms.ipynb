{
 "cells": [
  {
   "cell_type": "markdown",
   "metadata": {},
   "source": [
    "Three paradigm: Modelling, Learning, Inference"
   ]
  },
  {
   "cell_type": "markdown",
   "metadata": {},
   "source": [
    "#### Problem: the edit distance (Dynamic Programming)\n",
    "Given two strings $s$ and $t$, output the minimum number of character insertions/deletions and substitutions it takes to change s to t.  \n",
    "\n",
    "DP recurrance: \n",
    "$$\n",
    "d(m,n)=\n",
    "\\begin{cases}\n",
    "m & \\text{if } n=0 \\\\\n",
    "n & \\text{if } m=0 \\\\\n",
    "d(m-1, n-1) & \\text{if } s_m=t_n \\\\\n",
    "1+min(d(m-1,n-1),d(m-1,n),d(m,n-1)) & \\text{otherwise } \\\\\n",
    "\\end{cases}\n",
    "$$\n"
   ]
  },
  {
   "cell_type": "code",
   "execution_count": null,
   "metadata": {},
   "outputs": [],
   "source": []
  },
  {
   "cell_type": "markdown",
   "metadata": {},
   "source": [
    "#### Problem: Finding the least square line (Numerical optimization with gradient descent)\n",
    "\n",
    "Given set of pairs ($x_i, y_i$) where $1\\le i \\le m$, find $w$ that minimizes the squared error:  \n",
    "$$\n",
    "F(w)=\\sum_{i=1}^n (x_iw - y_i)\n",
    "$$"
   ]
  },
  {
   "cell_type": "code",
   "execution_count": null,
   "metadata": {},
   "outputs": [],
   "source": []
  },
  {
   "cell_type": "markdown",
   "metadata": {},
   "source": [
    "### Reflex based models\n",
    "\n",
    "#### zero-one loss\n",
    "$$\n",
    "\\begin{cases}\n",
    "f_w(x)=\\text{sign}(w^T \\phi(x))  \\\\\n",
    "Loss_{0-1}(x,y,w)=1[f_w(x)\\ne y]=1[(w^T\\phi(x))y \\le 0]\n",
    "\\end{cases}\n",
    "$$"
   ]
  },
  {
   "cell_type": "markdown",
   "metadata": {},
   "source": [
    "### State based models\n",
    "* Search - you control everything\n",
    "* MDP - against nature (Blackjack)\n",
    "* Adversarial games - againse opponent (chess)\n",
    "\n",
    "the order in which things are done is generally not important."
   ]
  },
  {
   "cell_type": "markdown",
   "metadata": {},
   "source": [
    "### Variable based models\n",
    "* CSP - hard constraints (Sudoku)\n",
    "* Bayesian networks - soft dependencies (tracking cars from sensors)"
   ]
  },
  {
   "cell_type": "markdown",
   "metadata": {},
   "source": [
    "### Logic"
   ]
  }
 ],
 "metadata": {
  "kernelspec": {
   "display_name": "Python 3.8.6 64-bit",
   "language": "python",
   "name": "python38664bit7be2226db7dd4272888659436f984e5a"
  },
  "language_info": {
   "codemirror_mode": {
    "name": "ipython",
    "version": 3
   },
   "file_extension": ".py",
   "mimetype": "text/x-python",
   "name": "python",
   "nbconvert_exporter": "python",
   "pygments_lexer": "ipython3",
   "version": "3.8.6rc1"
  }
 },
 "nbformat": 4,
 "nbformat_minor": 4
}
